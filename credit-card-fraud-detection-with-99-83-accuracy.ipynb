{
 "cells": [
  {
   "cell_type": "markdown",
   "id": "e3ac8e60",
   "metadata": {
    "papermill": {
     "duration": 0.036718,
     "end_time": "2021-11-16T03:00:37.160310",
     "exception": false,
     "start_time": "2021-11-16T03:00:37.123592",
     "status": "completed"
    },
    "tags": []
   },
   "source": [
    "# Credit Card fraud Detection EDA + Regression"
   ]
  },
  {
   "cell_type": "markdown",
   "id": "ef176599",
   "metadata": {
    "papermill": {
     "duration": 0.031652,
     "end_time": "2021-11-16T03:00:37.219660",
     "exception": false,
     "start_time": "2021-11-16T03:00:37.188008",
     "status": "completed"
    },
    "tags": []
   },
   "source": [
    "Credit card fraud is an inclusive term for fraud committed using a payment card, such as a credit card or debit card. The purpose may be to obtain goods or services or to make payment to another account, which is controlled by a criminal. The Payment Card Industry Data Security Standard (PCI DSS) is the data security standard created to help financial institutions process card payments securely and reduce card fraud.\n",
    "\n",
    "Credit card fraud can be authorised, where the genuine customer themselves processes a payment to another account which is controlled by a criminal, or unauthorised, where the account holder does not provide authorisation for the payment to proceed and the transaction is carried out by a third party. In 2018, unauthorised financial fraud losses across payment cards and remote banking totalled £844.8 million in the United Kingdom. Whereas banks and card companies prevented £1.66 billion in unauthorised fraud in 2018. That is the equivalent to £2 in every £3 of attempted fraud being stopped.\n",
    "\n",
    "Credit cards are more secure than ever, with regulators, card providers and banks taking considerable time and effort to collaborate with investigators worldwide to ensure fraudsters aren't successful. Cardholders' money is usually protected from scammers with regulations that make the card provider and bank accountable. The technology and security measures behind credit cards are becoming increasingly sophisticated making it harder for fraudsters to steal money."
   ]
  },
  {
   "cell_type": "markdown",
   "id": "17b3104f",
   "metadata": {
    "papermill": {
     "duration": 0.034554,
     "end_time": "2021-11-16T03:00:37.289540",
     "exception": false,
     "start_time": "2021-11-16T03:00:37.254986",
     "status": "completed"
    },
    "tags": []
   },
   "source": [
    "**Importing packages for Analysis**"
   ]
  },
  {
   "cell_type": "code",
   "execution_count": 1,
   "id": "688b8812",
   "metadata": {
    "_cell_guid": "b1076dfc-b9ad-4769-8c92-a6c4dae69d19",
    "_uuid": "8f2839f25d086af736a60e9eeb907d3b93b6e0e5",
    "execution": {
     "iopub.execute_input": "2021-11-16T03:00:37.357188Z",
     "iopub.status.busy": "2021-11-16T03:00:37.356509Z",
     "iopub.status.idle": "2021-11-16T03:00:38.285395Z",
     "shell.execute_reply": "2021-11-16T03:00:38.286024Z",
     "shell.execute_reply.started": "2021-11-15T09:29:27.041922Z"
    },
    "papermill": {
     "duration": 0.966628,
     "end_time": "2021-11-16T03:00:38.286385",
     "exception": false,
     "start_time": "2021-11-16T03:00:37.319757",
     "status": "completed"
    },
    "tags": []
   },
   "outputs": [],
   "source": [
    "import numpy as np\n",
    "import pandas as pd\n",
    "import matplotlib.pyplot as plt\n",
    "import seaborn as sb"
   ]
  },
  {
   "cell_type": "markdown",
   "id": "90b951b4",
   "metadata": {
    "papermill": {
     "duration": 0.025793,
     "end_time": "2021-11-16T03:00:38.338211",
     "exception": false,
     "start_time": "2021-11-16T03:00:38.312418",
     "status": "completed"
    },
    "tags": []
   },
   "source": [
    "**Importing the csv file**"
   ]
  },
  {
   "cell_type": "code",
   "execution_count": 2,
   "id": "114efd5b",
   "metadata": {
    "execution": {
     "iopub.execute_input": "2021-11-16T03:00:38.393461Z",
     "iopub.status.busy": "2021-11-16T03:00:38.392644Z",
     "iopub.status.idle": "2021-11-16T03:00:42.205555Z",
     "shell.execute_reply": "2021-11-16T03:00:42.204843Z",
     "shell.execute_reply.started": "2021-11-15T09:29:27.048871Z"
    },
    "papermill": {
     "duration": 3.842126,
     "end_time": "2021-11-16T03:00:42.205702",
     "exception": false,
     "start_time": "2021-11-16T03:00:38.363576",
     "status": "completed"
    },
    "tags": []
   },
   "outputs": [],
   "source": [
    "df= pd.read_csv('../input/creditcardfraud/creditcard.csv')"
   ]
  },
  {
   "cell_type": "markdown",
   "id": "bb751464",
   "metadata": {
    "papermill": {
     "duration": 0.023469,
     "end_time": "2021-11-16T03:00:42.252664",
     "exception": false,
     "start_time": "2021-11-16T03:00:42.229195",
     "status": "completed"
    },
    "tags": []
   },
   "source": [
    "**Top five rows of the dataset**"
   ]
  },
  {
   "cell_type": "code",
   "execution_count": 3,
   "id": "4a78571a",
   "metadata": {
    "execution": {
     "iopub.execute_input": "2021-11-16T03:00:42.314275Z",
     "iopub.status.busy": "2021-11-16T03:00:42.313437Z",
     "iopub.status.idle": "2021-11-16T03:00:42.340278Z",
     "shell.execute_reply": "2021-11-16T03:00:42.340767Z",
     "shell.execute_reply.started": "2021-11-15T09:29:30.058294Z"
    },
    "papermill": {
     "duration": 0.064481,
     "end_time": "2021-11-16T03:00:42.340956",
     "exception": false,
     "start_time": "2021-11-16T03:00:42.276475",
     "status": "completed"
    },
    "tags": []
   },
   "outputs": [
    {
     "data": {
      "text/html": [
       "<div>\n",
       "<style scoped>\n",
       "    .dataframe tbody tr th:only-of-type {\n",
       "        vertical-align: middle;\n",
       "    }\n",
       "\n",
       "    .dataframe tbody tr th {\n",
       "        vertical-align: top;\n",
       "    }\n",
       "\n",
       "    .dataframe thead th {\n",
       "        text-align: right;\n",
       "    }\n",
       "</style>\n",
       "<table border=\"1\" class=\"dataframe\">\n",
       "  <thead>\n",
       "    <tr style=\"text-align: right;\">\n",
       "      <th></th>\n",
       "      <th>Time</th>\n",
       "      <th>V1</th>\n",
       "      <th>V2</th>\n",
       "      <th>V3</th>\n",
       "      <th>V4</th>\n",
       "      <th>V5</th>\n",
       "      <th>V6</th>\n",
       "      <th>V7</th>\n",
       "      <th>V8</th>\n",
       "      <th>V9</th>\n",
       "      <th>...</th>\n",
       "      <th>V21</th>\n",
       "      <th>V22</th>\n",
       "      <th>V23</th>\n",
       "      <th>V24</th>\n",
       "      <th>V25</th>\n",
       "      <th>V26</th>\n",
       "      <th>V27</th>\n",
       "      <th>V28</th>\n",
       "      <th>Amount</th>\n",
       "      <th>Class</th>\n",
       "    </tr>\n",
       "  </thead>\n",
       "  <tbody>\n",
       "    <tr>\n",
       "      <th>0</th>\n",
       "      <td>0.0</td>\n",
       "      <td>-1.359807</td>\n",
       "      <td>-0.072781</td>\n",
       "      <td>2.536347</td>\n",
       "      <td>1.378155</td>\n",
       "      <td>-0.338321</td>\n",
       "      <td>0.462388</td>\n",
       "      <td>0.239599</td>\n",
       "      <td>0.098698</td>\n",
       "      <td>0.363787</td>\n",
       "      <td>...</td>\n",
       "      <td>-0.018307</td>\n",
       "      <td>0.277838</td>\n",
       "      <td>-0.110474</td>\n",
       "      <td>0.066928</td>\n",
       "      <td>0.128539</td>\n",
       "      <td>-0.189115</td>\n",
       "      <td>0.133558</td>\n",
       "      <td>-0.021053</td>\n",
       "      <td>149.62</td>\n",
       "      <td>0</td>\n",
       "    </tr>\n",
       "    <tr>\n",
       "      <th>1</th>\n",
       "      <td>0.0</td>\n",
       "      <td>1.191857</td>\n",
       "      <td>0.266151</td>\n",
       "      <td>0.166480</td>\n",
       "      <td>0.448154</td>\n",
       "      <td>0.060018</td>\n",
       "      <td>-0.082361</td>\n",
       "      <td>-0.078803</td>\n",
       "      <td>0.085102</td>\n",
       "      <td>-0.255425</td>\n",
       "      <td>...</td>\n",
       "      <td>-0.225775</td>\n",
       "      <td>-0.638672</td>\n",
       "      <td>0.101288</td>\n",
       "      <td>-0.339846</td>\n",
       "      <td>0.167170</td>\n",
       "      <td>0.125895</td>\n",
       "      <td>-0.008983</td>\n",
       "      <td>0.014724</td>\n",
       "      <td>2.69</td>\n",
       "      <td>0</td>\n",
       "    </tr>\n",
       "    <tr>\n",
       "      <th>2</th>\n",
       "      <td>1.0</td>\n",
       "      <td>-1.358354</td>\n",
       "      <td>-1.340163</td>\n",
       "      <td>1.773209</td>\n",
       "      <td>0.379780</td>\n",
       "      <td>-0.503198</td>\n",
       "      <td>1.800499</td>\n",
       "      <td>0.791461</td>\n",
       "      <td>0.247676</td>\n",
       "      <td>-1.514654</td>\n",
       "      <td>...</td>\n",
       "      <td>0.247998</td>\n",
       "      <td>0.771679</td>\n",
       "      <td>0.909412</td>\n",
       "      <td>-0.689281</td>\n",
       "      <td>-0.327642</td>\n",
       "      <td>-0.139097</td>\n",
       "      <td>-0.055353</td>\n",
       "      <td>-0.059752</td>\n",
       "      <td>378.66</td>\n",
       "      <td>0</td>\n",
       "    </tr>\n",
       "    <tr>\n",
       "      <th>3</th>\n",
       "      <td>1.0</td>\n",
       "      <td>-0.966272</td>\n",
       "      <td>-0.185226</td>\n",
       "      <td>1.792993</td>\n",
       "      <td>-0.863291</td>\n",
       "      <td>-0.010309</td>\n",
       "      <td>1.247203</td>\n",
       "      <td>0.237609</td>\n",
       "      <td>0.377436</td>\n",
       "      <td>-1.387024</td>\n",
       "      <td>...</td>\n",
       "      <td>-0.108300</td>\n",
       "      <td>0.005274</td>\n",
       "      <td>-0.190321</td>\n",
       "      <td>-1.175575</td>\n",
       "      <td>0.647376</td>\n",
       "      <td>-0.221929</td>\n",
       "      <td>0.062723</td>\n",
       "      <td>0.061458</td>\n",
       "      <td>123.50</td>\n",
       "      <td>0</td>\n",
       "    </tr>\n",
       "    <tr>\n",
       "      <th>4</th>\n",
       "      <td>2.0</td>\n",
       "      <td>-1.158233</td>\n",
       "      <td>0.877737</td>\n",
       "      <td>1.548718</td>\n",
       "      <td>0.403034</td>\n",
       "      <td>-0.407193</td>\n",
       "      <td>0.095921</td>\n",
       "      <td>0.592941</td>\n",
       "      <td>-0.270533</td>\n",
       "      <td>0.817739</td>\n",
       "      <td>...</td>\n",
       "      <td>-0.009431</td>\n",
       "      <td>0.798278</td>\n",
       "      <td>-0.137458</td>\n",
       "      <td>0.141267</td>\n",
       "      <td>-0.206010</td>\n",
       "      <td>0.502292</td>\n",
       "      <td>0.219422</td>\n",
       "      <td>0.215153</td>\n",
       "      <td>69.99</td>\n",
       "      <td>0</td>\n",
       "    </tr>\n",
       "  </tbody>\n",
       "</table>\n",
       "<p>5 rows × 31 columns</p>\n",
       "</div>"
      ],
      "text/plain": [
       "   Time        V1        V2        V3        V4        V5        V6        V7  \\\n",
       "0   0.0 -1.359807 -0.072781  2.536347  1.378155 -0.338321  0.462388  0.239599   \n",
       "1   0.0  1.191857  0.266151  0.166480  0.448154  0.060018 -0.082361 -0.078803   \n",
       "2   1.0 -1.358354 -1.340163  1.773209  0.379780 -0.503198  1.800499  0.791461   \n",
       "3   1.0 -0.966272 -0.185226  1.792993 -0.863291 -0.010309  1.247203  0.237609   \n",
       "4   2.0 -1.158233  0.877737  1.548718  0.403034 -0.407193  0.095921  0.592941   \n",
       "\n",
       "         V8        V9  ...       V21       V22       V23       V24       V25  \\\n",
       "0  0.098698  0.363787  ... -0.018307  0.277838 -0.110474  0.066928  0.128539   \n",
       "1  0.085102 -0.255425  ... -0.225775 -0.638672  0.101288 -0.339846  0.167170   \n",
       "2  0.247676 -1.514654  ...  0.247998  0.771679  0.909412 -0.689281 -0.327642   \n",
       "3  0.377436 -1.387024  ... -0.108300  0.005274 -0.190321 -1.175575  0.647376   \n",
       "4 -0.270533  0.817739  ... -0.009431  0.798278 -0.137458  0.141267 -0.206010   \n",
       "\n",
       "        V26       V27       V28  Amount  Class  \n",
       "0 -0.189115  0.133558 -0.021053  149.62      0  \n",
       "1  0.125895 -0.008983  0.014724    2.69      0  \n",
       "2 -0.139097 -0.055353 -0.059752  378.66      0  \n",
       "3 -0.221929  0.062723  0.061458  123.50      0  \n",
       "4  0.502292  0.219422  0.215153   69.99      0  \n",
       "\n",
       "[5 rows x 31 columns]"
      ]
     },
     "execution_count": 3,
     "metadata": {},
     "output_type": "execute_result"
    }
   ],
   "source": [
    "df.head()"
   ]
  },
  {
   "cell_type": "markdown",
   "id": "f193bbc0",
   "metadata": {
    "papermill": {
     "duration": 0.023161,
     "end_time": "2021-11-16T03:00:42.388132",
     "exception": false,
     "start_time": "2021-11-16T03:00:42.364971",
     "status": "completed"
    },
    "tags": []
   },
   "source": [
    "**Finding out if there are any null value**"
   ]
  },
  {
   "cell_type": "code",
   "execution_count": 4,
   "id": "cd5a16de",
   "metadata": {
    "execution": {
     "iopub.execute_input": "2021-11-16T03:00:42.440990Z",
     "iopub.status.busy": "2021-11-16T03:00:42.439797Z",
     "iopub.status.idle": "2021-11-16T03:00:42.466624Z",
     "shell.execute_reply": "2021-11-16T03:00:42.465981Z",
     "shell.execute_reply.started": "2021-11-15T09:29:30.087924Z"
    },
    "papermill": {
     "duration": 0.054856,
     "end_time": "2021-11-16T03:00:42.466765",
     "exception": false,
     "start_time": "2021-11-16T03:00:42.411909",
     "status": "completed"
    },
    "tags": []
   },
   "outputs": [
    {
     "data": {
      "text/plain": [
       "Time      0\n",
       "V1        0\n",
       "V2        0\n",
       "V3        0\n",
       "V4        0\n",
       "V5        0\n",
       "V6        0\n",
       "V7        0\n",
       "V8        0\n",
       "V9        0\n",
       "V10       0\n",
       "V11       0\n",
       "V12       0\n",
       "V13       0\n",
       "V14       0\n",
       "V15       0\n",
       "V16       0\n",
       "V17       0\n",
       "V18       0\n",
       "V19       0\n",
       "V20       0\n",
       "V21       0\n",
       "V22       0\n",
       "V23       0\n",
       "V24       0\n",
       "V25       0\n",
       "V26       0\n",
       "V27       0\n",
       "V28       0\n",
       "Amount    0\n",
       "Class     0\n",
       "dtype: int64"
      ]
     },
     "execution_count": 4,
     "metadata": {},
     "output_type": "execute_result"
    }
   ],
   "source": [
    "df.isnull().sum()"
   ]
  },
  {
   "cell_type": "markdown",
   "id": "e9b0e833",
   "metadata": {
    "papermill": {
     "duration": 0.024261,
     "end_time": "2021-11-16T03:00:42.515430",
     "exception": false,
     "start_time": "2021-11-16T03:00:42.491169",
     "status": "completed"
    },
    "tags": []
   },
   "source": [
    "* No null value exists"
   ]
  },
  {
   "cell_type": "markdown",
   "id": "cde90fb6",
   "metadata": {
    "papermill": {
     "duration": 0.024243,
     "end_time": "2021-11-16T03:00:42.564832",
     "exception": false,
     "start_time": "2021-11-16T03:00:42.540589",
     "status": "completed"
    },
    "tags": []
   },
   "source": [
    "**Descriptive statistics of the data**"
   ]
  },
  {
   "cell_type": "code",
   "execution_count": 5,
   "id": "d5bfb566",
   "metadata": {
    "execution": {
     "iopub.execute_input": "2021-11-16T03:00:42.654527Z",
     "iopub.status.busy": "2021-11-16T03:00:42.653500Z",
     "iopub.status.idle": "2021-11-16T03:00:43.045697Z",
     "shell.execute_reply": "2021-11-16T03:00:43.046191Z",
     "shell.execute_reply.started": "2021-11-15T09:29:30.123373Z"
    },
    "papermill": {
     "duration": 0.456812,
     "end_time": "2021-11-16T03:00:43.046358",
     "exception": false,
     "start_time": "2021-11-16T03:00:42.589546",
     "status": "completed"
    },
    "tags": []
   },
   "outputs": [
    {
     "data": {
      "text/html": [
       "<div>\n",
       "<style scoped>\n",
       "    .dataframe tbody tr th:only-of-type {\n",
       "        vertical-align: middle;\n",
       "    }\n",
       "\n",
       "    .dataframe tbody tr th {\n",
       "        vertical-align: top;\n",
       "    }\n",
       "\n",
       "    .dataframe thead th {\n",
       "        text-align: right;\n",
       "    }\n",
       "</style>\n",
       "<table border=\"1\" class=\"dataframe\">\n",
       "  <thead>\n",
       "    <tr style=\"text-align: right;\">\n",
       "      <th></th>\n",
       "      <th>Time</th>\n",
       "      <th>V1</th>\n",
       "      <th>V2</th>\n",
       "      <th>V3</th>\n",
       "      <th>V4</th>\n",
       "      <th>V5</th>\n",
       "      <th>V6</th>\n",
       "      <th>V7</th>\n",
       "      <th>V8</th>\n",
       "      <th>V9</th>\n",
       "      <th>...</th>\n",
       "      <th>V21</th>\n",
       "      <th>V22</th>\n",
       "      <th>V23</th>\n",
       "      <th>V24</th>\n",
       "      <th>V25</th>\n",
       "      <th>V26</th>\n",
       "      <th>V27</th>\n",
       "      <th>V28</th>\n",
       "      <th>Amount</th>\n",
       "      <th>Class</th>\n",
       "    </tr>\n",
       "  </thead>\n",
       "  <tbody>\n",
       "    <tr>\n",
       "      <th>count</th>\n",
       "      <td>284807.000000</td>\n",
       "      <td>2.848070e+05</td>\n",
       "      <td>2.848070e+05</td>\n",
       "      <td>2.848070e+05</td>\n",
       "      <td>2.848070e+05</td>\n",
       "      <td>2.848070e+05</td>\n",
       "      <td>2.848070e+05</td>\n",
       "      <td>2.848070e+05</td>\n",
       "      <td>2.848070e+05</td>\n",
       "      <td>2.848070e+05</td>\n",
       "      <td>...</td>\n",
       "      <td>2.848070e+05</td>\n",
       "      <td>2.848070e+05</td>\n",
       "      <td>2.848070e+05</td>\n",
       "      <td>2.848070e+05</td>\n",
       "      <td>2.848070e+05</td>\n",
       "      <td>2.848070e+05</td>\n",
       "      <td>2.848070e+05</td>\n",
       "      <td>2.848070e+05</td>\n",
       "      <td>284807.000000</td>\n",
       "      <td>284807.000000</td>\n",
       "    </tr>\n",
       "    <tr>\n",
       "      <th>mean</th>\n",
       "      <td>94813.859575</td>\n",
       "      <td>3.918649e-15</td>\n",
       "      <td>5.682686e-16</td>\n",
       "      <td>-8.761736e-15</td>\n",
       "      <td>2.811118e-15</td>\n",
       "      <td>-1.552103e-15</td>\n",
       "      <td>2.040130e-15</td>\n",
       "      <td>-1.698953e-15</td>\n",
       "      <td>-1.893285e-16</td>\n",
       "      <td>-3.147640e-15</td>\n",
       "      <td>...</td>\n",
       "      <td>1.473120e-16</td>\n",
       "      <td>8.042109e-16</td>\n",
       "      <td>5.282512e-16</td>\n",
       "      <td>4.456271e-15</td>\n",
       "      <td>1.426896e-15</td>\n",
       "      <td>1.701640e-15</td>\n",
       "      <td>-3.662252e-16</td>\n",
       "      <td>-1.217809e-16</td>\n",
       "      <td>88.349619</td>\n",
       "      <td>0.001727</td>\n",
       "    </tr>\n",
       "    <tr>\n",
       "      <th>std</th>\n",
       "      <td>47488.145955</td>\n",
       "      <td>1.958696e+00</td>\n",
       "      <td>1.651309e+00</td>\n",
       "      <td>1.516255e+00</td>\n",
       "      <td>1.415869e+00</td>\n",
       "      <td>1.380247e+00</td>\n",
       "      <td>1.332271e+00</td>\n",
       "      <td>1.237094e+00</td>\n",
       "      <td>1.194353e+00</td>\n",
       "      <td>1.098632e+00</td>\n",
       "      <td>...</td>\n",
       "      <td>7.345240e-01</td>\n",
       "      <td>7.257016e-01</td>\n",
       "      <td>6.244603e-01</td>\n",
       "      <td>6.056471e-01</td>\n",
       "      <td>5.212781e-01</td>\n",
       "      <td>4.822270e-01</td>\n",
       "      <td>4.036325e-01</td>\n",
       "      <td>3.300833e-01</td>\n",
       "      <td>250.120109</td>\n",
       "      <td>0.041527</td>\n",
       "    </tr>\n",
       "    <tr>\n",
       "      <th>min</th>\n",
       "      <td>0.000000</td>\n",
       "      <td>-5.640751e+01</td>\n",
       "      <td>-7.271573e+01</td>\n",
       "      <td>-4.832559e+01</td>\n",
       "      <td>-5.683171e+00</td>\n",
       "      <td>-1.137433e+02</td>\n",
       "      <td>-2.616051e+01</td>\n",
       "      <td>-4.355724e+01</td>\n",
       "      <td>-7.321672e+01</td>\n",
       "      <td>-1.343407e+01</td>\n",
       "      <td>...</td>\n",
       "      <td>-3.483038e+01</td>\n",
       "      <td>-1.093314e+01</td>\n",
       "      <td>-4.480774e+01</td>\n",
       "      <td>-2.836627e+00</td>\n",
       "      <td>-1.029540e+01</td>\n",
       "      <td>-2.604551e+00</td>\n",
       "      <td>-2.256568e+01</td>\n",
       "      <td>-1.543008e+01</td>\n",
       "      <td>0.000000</td>\n",
       "      <td>0.000000</td>\n",
       "    </tr>\n",
       "    <tr>\n",
       "      <th>25%</th>\n",
       "      <td>54201.500000</td>\n",
       "      <td>-9.203734e-01</td>\n",
       "      <td>-5.985499e-01</td>\n",
       "      <td>-8.903648e-01</td>\n",
       "      <td>-8.486401e-01</td>\n",
       "      <td>-6.915971e-01</td>\n",
       "      <td>-7.682956e-01</td>\n",
       "      <td>-5.540759e-01</td>\n",
       "      <td>-2.086297e-01</td>\n",
       "      <td>-6.430976e-01</td>\n",
       "      <td>...</td>\n",
       "      <td>-2.283949e-01</td>\n",
       "      <td>-5.423504e-01</td>\n",
       "      <td>-1.618463e-01</td>\n",
       "      <td>-3.545861e-01</td>\n",
       "      <td>-3.171451e-01</td>\n",
       "      <td>-3.269839e-01</td>\n",
       "      <td>-7.083953e-02</td>\n",
       "      <td>-5.295979e-02</td>\n",
       "      <td>5.600000</td>\n",
       "      <td>0.000000</td>\n",
       "    </tr>\n",
       "    <tr>\n",
       "      <th>50%</th>\n",
       "      <td>84692.000000</td>\n",
       "      <td>1.810880e-02</td>\n",
       "      <td>6.548556e-02</td>\n",
       "      <td>1.798463e-01</td>\n",
       "      <td>-1.984653e-02</td>\n",
       "      <td>-5.433583e-02</td>\n",
       "      <td>-2.741871e-01</td>\n",
       "      <td>4.010308e-02</td>\n",
       "      <td>2.235804e-02</td>\n",
       "      <td>-5.142873e-02</td>\n",
       "      <td>...</td>\n",
       "      <td>-2.945017e-02</td>\n",
       "      <td>6.781943e-03</td>\n",
       "      <td>-1.119293e-02</td>\n",
       "      <td>4.097606e-02</td>\n",
       "      <td>1.659350e-02</td>\n",
       "      <td>-5.213911e-02</td>\n",
       "      <td>1.342146e-03</td>\n",
       "      <td>1.124383e-02</td>\n",
       "      <td>22.000000</td>\n",
       "      <td>0.000000</td>\n",
       "    </tr>\n",
       "    <tr>\n",
       "      <th>75%</th>\n",
       "      <td>139320.500000</td>\n",
       "      <td>1.315642e+00</td>\n",
       "      <td>8.037239e-01</td>\n",
       "      <td>1.027196e+00</td>\n",
       "      <td>7.433413e-01</td>\n",
       "      <td>6.119264e-01</td>\n",
       "      <td>3.985649e-01</td>\n",
       "      <td>5.704361e-01</td>\n",
       "      <td>3.273459e-01</td>\n",
       "      <td>5.971390e-01</td>\n",
       "      <td>...</td>\n",
       "      <td>1.863772e-01</td>\n",
       "      <td>5.285536e-01</td>\n",
       "      <td>1.476421e-01</td>\n",
       "      <td>4.395266e-01</td>\n",
       "      <td>3.507156e-01</td>\n",
       "      <td>2.409522e-01</td>\n",
       "      <td>9.104512e-02</td>\n",
       "      <td>7.827995e-02</td>\n",
       "      <td>77.165000</td>\n",
       "      <td>0.000000</td>\n",
       "    </tr>\n",
       "    <tr>\n",
       "      <th>max</th>\n",
       "      <td>172792.000000</td>\n",
       "      <td>2.454930e+00</td>\n",
       "      <td>2.205773e+01</td>\n",
       "      <td>9.382558e+00</td>\n",
       "      <td>1.687534e+01</td>\n",
       "      <td>3.480167e+01</td>\n",
       "      <td>7.330163e+01</td>\n",
       "      <td>1.205895e+02</td>\n",
       "      <td>2.000721e+01</td>\n",
       "      <td>1.559499e+01</td>\n",
       "      <td>...</td>\n",
       "      <td>2.720284e+01</td>\n",
       "      <td>1.050309e+01</td>\n",
       "      <td>2.252841e+01</td>\n",
       "      <td>4.584549e+00</td>\n",
       "      <td>7.519589e+00</td>\n",
       "      <td>3.517346e+00</td>\n",
       "      <td>3.161220e+01</td>\n",
       "      <td>3.384781e+01</td>\n",
       "      <td>25691.160000</td>\n",
       "      <td>1.000000</td>\n",
       "    </tr>\n",
       "  </tbody>\n",
       "</table>\n",
       "<p>8 rows × 31 columns</p>\n",
       "</div>"
      ],
      "text/plain": [
       "                Time            V1            V2            V3            V4  \\\n",
       "count  284807.000000  2.848070e+05  2.848070e+05  2.848070e+05  2.848070e+05   \n",
       "mean    94813.859575  3.918649e-15  5.682686e-16 -8.761736e-15  2.811118e-15   \n",
       "std     47488.145955  1.958696e+00  1.651309e+00  1.516255e+00  1.415869e+00   \n",
       "min         0.000000 -5.640751e+01 -7.271573e+01 -4.832559e+01 -5.683171e+00   \n",
       "25%     54201.500000 -9.203734e-01 -5.985499e-01 -8.903648e-01 -8.486401e-01   \n",
       "50%     84692.000000  1.810880e-02  6.548556e-02  1.798463e-01 -1.984653e-02   \n",
       "75%    139320.500000  1.315642e+00  8.037239e-01  1.027196e+00  7.433413e-01   \n",
       "max    172792.000000  2.454930e+00  2.205773e+01  9.382558e+00  1.687534e+01   \n",
       "\n",
       "                 V5            V6            V7            V8            V9  \\\n",
       "count  2.848070e+05  2.848070e+05  2.848070e+05  2.848070e+05  2.848070e+05   \n",
       "mean  -1.552103e-15  2.040130e-15 -1.698953e-15 -1.893285e-16 -3.147640e-15   \n",
       "std    1.380247e+00  1.332271e+00  1.237094e+00  1.194353e+00  1.098632e+00   \n",
       "min   -1.137433e+02 -2.616051e+01 -4.355724e+01 -7.321672e+01 -1.343407e+01   \n",
       "25%   -6.915971e-01 -7.682956e-01 -5.540759e-01 -2.086297e-01 -6.430976e-01   \n",
       "50%   -5.433583e-02 -2.741871e-01  4.010308e-02  2.235804e-02 -5.142873e-02   \n",
       "75%    6.119264e-01  3.985649e-01  5.704361e-01  3.273459e-01  5.971390e-01   \n",
       "max    3.480167e+01  7.330163e+01  1.205895e+02  2.000721e+01  1.559499e+01   \n",
       "\n",
       "       ...           V21           V22           V23           V24  \\\n",
       "count  ...  2.848070e+05  2.848070e+05  2.848070e+05  2.848070e+05   \n",
       "mean   ...  1.473120e-16  8.042109e-16  5.282512e-16  4.456271e-15   \n",
       "std    ...  7.345240e-01  7.257016e-01  6.244603e-01  6.056471e-01   \n",
       "min    ... -3.483038e+01 -1.093314e+01 -4.480774e+01 -2.836627e+00   \n",
       "25%    ... -2.283949e-01 -5.423504e-01 -1.618463e-01 -3.545861e-01   \n",
       "50%    ... -2.945017e-02  6.781943e-03 -1.119293e-02  4.097606e-02   \n",
       "75%    ...  1.863772e-01  5.285536e-01  1.476421e-01  4.395266e-01   \n",
       "max    ...  2.720284e+01  1.050309e+01  2.252841e+01  4.584549e+00   \n",
       "\n",
       "                V25           V26           V27           V28         Amount  \\\n",
       "count  2.848070e+05  2.848070e+05  2.848070e+05  2.848070e+05  284807.000000   \n",
       "mean   1.426896e-15  1.701640e-15 -3.662252e-16 -1.217809e-16      88.349619   \n",
       "std    5.212781e-01  4.822270e-01  4.036325e-01  3.300833e-01     250.120109   \n",
       "min   -1.029540e+01 -2.604551e+00 -2.256568e+01 -1.543008e+01       0.000000   \n",
       "25%   -3.171451e-01 -3.269839e-01 -7.083953e-02 -5.295979e-02       5.600000   \n",
       "50%    1.659350e-02 -5.213911e-02  1.342146e-03  1.124383e-02      22.000000   \n",
       "75%    3.507156e-01  2.409522e-01  9.104512e-02  7.827995e-02      77.165000   \n",
       "max    7.519589e+00  3.517346e+00  3.161220e+01  3.384781e+01   25691.160000   \n",
       "\n",
       "               Class  \n",
       "count  284807.000000  \n",
       "mean        0.001727  \n",
       "std         0.041527  \n",
       "min         0.000000  \n",
       "25%         0.000000  \n",
       "50%         0.000000  \n",
       "75%         0.000000  \n",
       "max         1.000000  \n",
       "\n",
       "[8 rows x 31 columns]"
      ]
     },
     "execution_count": 5,
     "metadata": {},
     "output_type": "execute_result"
    }
   ],
   "source": [
    "df.describe()"
   ]
  },
  {
   "cell_type": "markdown",
   "id": "7d58e197",
   "metadata": {
    "papermill": {
     "duration": 0.024187,
     "end_time": "2021-11-16T03:00:43.094944",
     "exception": false,
     "start_time": "2021-11-16T03:00:43.070757",
     "status": "completed"
    },
    "tags": []
   },
   "source": [
    "**Setting an index**"
   ]
  },
  {
   "cell_type": "code",
   "execution_count": 6,
   "id": "5df3d63f",
   "metadata": {
    "execution": {
     "iopub.execute_input": "2021-11-16T03:00:43.150166Z",
     "iopub.status.busy": "2021-11-16T03:00:43.148934Z",
     "iopub.status.idle": "2021-11-16T03:00:43.151731Z",
     "shell.execute_reply": "2021-11-16T03:00:43.151116Z",
     "shell.execute_reply.started": "2021-11-15T09:29:30.592249Z"
    },
    "papermill": {
     "duration": 0.032398,
     "end_time": "2021-11-16T03:00:43.151877",
     "exception": false,
     "start_time": "2021-11-16T03:00:43.119479",
     "status": "completed"
    },
    "tags": []
   },
   "outputs": [],
   "source": [
    "a=np.arange(1,284808)"
   ]
  },
  {
   "cell_type": "markdown",
   "id": "bb893c3e",
   "metadata": {
    "papermill": {
     "duration": 0.023984,
     "end_time": "2021-11-16T03:00:43.200209",
     "exception": false,
     "start_time": "2021-11-16T03:00:43.176225",
     "status": "completed"
    },
    "tags": []
   },
   "source": [
    "**Distribution of the presence of fraud and no fraud data**\n",
    "\n",
    "0 - No Fraud\n",
    "\n",
    "1 - Fraud"
   ]
  },
  {
   "cell_type": "code",
   "execution_count": 7,
   "id": "1a2a22db",
   "metadata": {
    "execution": {
     "iopub.execute_input": "2021-11-16T03:00:43.287676Z",
     "iopub.status.busy": "2021-11-16T03:00:43.287041Z",
     "iopub.status.idle": "2021-11-16T03:00:46.007957Z",
     "shell.execute_reply": "2021-11-16T03:00:46.007259Z",
     "shell.execute_reply.started": "2021-11-15T09:29:30.599534Z"
    },
    "papermill": {
     "duration": 2.783187,
     "end_time": "2021-11-16T03:00:46.008110",
     "exception": false,
     "start_time": "2021-11-16T03:00:43.224923",
     "status": "completed"
    },
    "tags": []
   },
   "outputs": [
    {
     "data": {
      "text/plain": [
       "Text(0.5, 0, 'Class')"
      ]
     },
     "execution_count": 7,
     "metadata": {},
     "output_type": "execute_result"
    },
    {
     "data": {
      "image/png": "[encoded data removed]",
      "text/plain": [
       "<Figure size 864x432 with 1 Axes>"
      ]
     },
     "metadata": {
      "needs_background": "light"
     },
     "output_type": "display_data"
    }
   ],
   "source": [
    "ax=plt.figure(figsize=(12,6))\n",
    "sb.barplot(x='Class',y=a,data=df,palette='Paired')\n",
    "plt.title('Frequency distribution of class')\n",
    "plt.ylabel('Frequency')\n",
    "plt.xlabel('Class')"
   ]
  },
  {
   "cell_type": "markdown",
   "id": "41d1d7f3",
   "metadata": {
    "papermill": {
     "duration": 0.025856,
     "end_time": "2021-11-16T03:00:46.059455",
     "exception": false,
     "start_time": "2021-11-16T03:00:46.033599",
     "status": "completed"
    },
    "tags": []
   },
   "source": [
    "* There are more non fraud values"
   ]
  },
  {
   "cell_type": "markdown",
   "id": "1f6be4b5",
   "metadata": {
    "papermill": {
     "duration": 0.024912,
     "end_time": "2021-11-16T03:00:46.109715",
     "exception": false,
     "start_time": "2021-11-16T03:00:46.084803",
     "status": "completed"
    },
    "tags": []
   },
   "source": [
    "**Correlation of various columns shown by heatmap**"
   ]
  },
  {
   "cell_type": "code",
   "execution_count": 8,
   "id": "ef9b3f9d",
   "metadata": {
    "execution": {
     "iopub.execute_input": "2021-11-16T03:00:46.167661Z",
     "iopub.status.busy": "2021-11-16T03:00:46.166776Z",
     "iopub.status.idle": "2021-11-16T03:00:47.921028Z",
     "shell.execute_reply": "2021-11-16T03:00:47.921550Z",
     "shell.execute_reply.started": "2021-11-15T09:29:33.768157Z"
    },
    "papermill": {
     "duration": 1.786766,
     "end_time": "2021-11-16T03:00:47.921726",
     "exception": false,
     "start_time": "2021-11-16T03:00:46.134960",
     "status": "completed"
    },
    "tags": []
   },
   "outputs": [
    {
     "data": {
      "text/plain": [
       "<AxesSubplot:>"
      ]
     },
     "execution_count": 8,
     "metadata": {},
     "output_type": "execute_result"
    },
    {
     "data": {
      "image/png": "[encoded data removed]",
      "text/plain": [
       "<Figure size 2160x1080 with 2 Axes>"
      ]
     },
     "metadata": {
      "needs_background": "light"
     },
     "output_type": "display_data"
    }
   ],
   "source": [
    "ax=plt.figure(figsize=(30,15))\n",
    "df_corr=df.corr()\n",
    "sb.heatmap(df_corr,linewidths=1,linecolor='white')"
   ]
  },
  {
   "cell_type": "markdown",
   "id": "41e745b4",
   "metadata": {
    "papermill": {
     "duration": 0.027807,
     "end_time": "2021-11-16T03:00:47.976924",
     "exception": false,
     "start_time": "2021-11-16T03:00:47.949117",
     "status": "completed"
    },
    "tags": []
   },
   "source": [
    "**Findidng out the percentage of fraud and no fraud values**"
   ]
  },
  {
   "cell_type": "code",
   "execution_count": 9,
   "id": "d42dc409",
   "metadata": {
    "execution": {
     "iopub.execute_input": "2021-11-16T03:00:48.043280Z",
     "iopub.status.busy": "2021-11-16T03:00:48.042644Z",
     "iopub.status.idle": "2021-11-16T03:00:48.047121Z",
     "shell.execute_reply": "2021-11-16T03:00:48.046590Z",
     "shell.execute_reply.started": "2021-11-15T09:29:35.463197Z"
    },
    "papermill": {
     "duration": 0.042683,
     "end_time": "2021-11-16T03:00:48.047260",
     "exception": false,
     "start_time": "2021-11-16T03:00:48.004577",
     "status": "completed"
    },
    "tags": []
   },
   "outputs": [
    {
     "data": {
      "text/plain": [
       "0    99.827251\n",
       "1     0.172749\n",
       "Name: Class, dtype: float64"
      ]
     },
     "execution_count": 9,
     "metadata": {},
     "output_type": "execute_result"
    }
   ],
   "source": [
    "fraud=df['Class'].value_counts()\n",
    "fraud_percentage= (fraud/284807)*100\n",
    "fraud_percentage"
   ]
  },
  {
   "cell_type": "markdown",
   "id": "de6d3445",
   "metadata": {
    "papermill": {
     "duration": 0.026933,
     "end_time": "2021-11-16T03:00:48.101462",
     "exception": false,
     "start_time": "2021-11-16T03:00:48.074529",
     "status": "completed"
    },
    "tags": []
   },
   "source": [
    "* 0.173% values are found to fraud"
   ]
  },
  {
   "cell_type": "markdown",
   "id": "ba603a21",
   "metadata": {
    "papermill": {
     "duration": 0.027229,
     "end_time": "2021-11-16T03:00:48.156028",
     "exception": false,
     "start_time": "2021-11-16T03:00:48.128799",
     "status": "completed"
    },
    "tags": []
   },
   "source": [
    "**Assigning the amount column as independant(X) and clas as dependant(y) variables**"
   ]
  },
  {
   "cell_type": "code",
   "execution_count": 10,
   "id": "f2d9847e",
   "metadata": {
    "execution": {
     "iopub.execute_input": "2021-11-16T03:00:48.215625Z",
     "iopub.status.busy": "2021-11-16T03:00:48.213599Z",
     "iopub.status.idle": "2021-11-16T03:00:48.218451Z",
     "shell.execute_reply": "2021-11-16T03:00:48.217832Z",
     "shell.execute_reply.started": "2021-11-15T09:29:35.476176Z"
    },
    "papermill": {
     "duration": 0.035227,
     "end_time": "2021-11-16T03:00:48.218623",
     "exception": false,
     "start_time": "2021-11-16T03:00:48.183396",
     "status": "completed"
    },
    "tags": []
   },
   "outputs": [],
   "source": [
    "X=df['Amount']\n",
    "y=df['Class']"
   ]
  },
  {
   "cell_type": "markdown",
   "id": "d7f2b6e8",
   "metadata": {
    "papermill": {
     "duration": 0.027266,
     "end_time": "2021-11-16T03:00:48.275269",
     "exception": false,
     "start_time": "2021-11-16T03:00:48.248003",
     "status": "completed"
    },
    "tags": []
   },
   "source": [
    "**Reshaping the Amount column to 2D**"
   ]
  },
  {
   "cell_type": "code",
   "execution_count": 11,
   "id": "3ce95204",
   "metadata": {
    "execution": {
     "iopub.execute_input": "2021-11-16T03:00:48.335423Z",
     "iopub.status.busy": "2021-11-16T03:00:48.334697Z",
     "iopub.status.idle": "2021-11-16T03:00:48.337202Z",
     "shell.execute_reply": "2021-11-16T03:00:48.336575Z",
     "shell.execute_reply.started": "2021-11-15T09:29:35.490133Z"
    },
    "papermill": {
     "duration": 0.034494,
     "end_time": "2021-11-16T03:00:48.337350",
     "exception": false,
     "start_time": "2021-11-16T03:00:48.302856",
     "status": "completed"
    },
    "tags": []
   },
   "outputs": [],
   "source": [
    "X=X.values.reshape(-1,1)"
   ]
  },
  {
   "cell_type": "markdown",
   "id": "c6f5d72a",
   "metadata": {
    "papermill": {
     "duration": 0.027014,
     "end_time": "2021-11-16T03:00:48.391503",
     "exception": false,
     "start_time": "2021-11-16T03:00:48.364489",
     "status": "completed"
    },
    "tags": []
   },
   "source": [
    "**Amount taken with seconds elapsed between each transaction and the first transaction in the dataset**"
   ]
  },
  {
   "cell_type": "code",
   "execution_count": 12,
   "id": "f71c135a",
   "metadata": {
    "execution": {
     "iopub.execute_input": "2021-11-16T03:00:48.476585Z",
     "iopub.status.busy": "2021-11-16T03:00:48.471965Z",
     "iopub.status.idle": "2021-11-16T03:00:49.195007Z",
     "shell.execute_reply": "2021-11-16T03:00:49.194314Z",
     "shell.execute_reply.started": "2021-11-15T09:29:35.500496Z"
    },
    "papermill": {
     "duration": 0.776376,
     "end_time": "2021-11-16T03:00:49.195157",
     "exception": false,
     "start_time": "2021-11-16T03:00:48.418781",
     "status": "completed"
    },
    "tags": []
   },
   "outputs": [
    {
     "data": {
      "image/png": "[encoded data removed]",
      "text/plain": [
       "<Figure size 1440x432 with 1 Axes>"
      ]
     },
     "metadata": {
      "needs_background": "light"
     },
     "output_type": "display_data"
    }
   ],
   "source": [
    "fig,ax=plt.subplots(figsize=(20,6))\n",
    "ax.scatter(X,df['Time'])\n",
    "plt.title('Amount taken with seconds elapsed between each transaction and the first transaction in the dataset ')\n",
    "plt.xlabel('Amount')\n",
    "plt.ylabel('Time')\n",
    "plt.show()"
   ]
  },
  {
   "cell_type": "markdown",
   "id": "2b22d97b",
   "metadata": {
    "papermill": {
     "duration": 0.02844,
     "end_time": "2021-11-16T03:00:49.313765",
     "exception": false,
     "start_time": "2021-11-16T03:00:49.285325",
     "status": "completed"
    },
    "tags": []
   },
   "source": [
    "**Importing the Standard Scaler for standardising the values**"
   ]
  },
  {
   "cell_type": "code",
   "execution_count": 13,
   "id": "bb29bc31",
   "metadata": {
    "execution": {
     "iopub.execute_input": "2021-11-16T03:00:49.375716Z",
     "iopub.status.busy": "2021-11-16T03:00:49.374985Z",
     "iopub.status.idle": "2021-11-16T03:00:49.502197Z",
     "shell.execute_reply": "2021-11-16T03:00:49.502665Z",
     "shell.execute_reply.started": "2021-11-15T09:29:36.252281Z"
    },
    "papermill": {
     "duration": 0.160429,
     "end_time": "2021-11-16T03:00:49.502869",
     "exception": false,
     "start_time": "2021-11-16T03:00:49.342440",
     "status": "completed"
    },
    "tags": []
   },
   "outputs": [],
   "source": [
    "from sklearn.preprocessing  import StandardScaler\n",
    "sdc= StandardScaler()"
   ]
  },
  {
   "cell_type": "code",
   "execution_count": 14,
   "id": "a8764cf2",
   "metadata": {
    "execution": {
     "iopub.execute_input": "2021-11-16T03:00:49.570792Z",
     "iopub.status.busy": "2021-11-16T03:00:49.569436Z",
     "iopub.status.idle": "2021-11-16T03:00:49.824157Z",
     "shell.execute_reply": "2021-11-16T03:00:49.823540Z",
     "shell.execute_reply.started": "2021-11-15T09:29:36.258486Z"
    },
    "papermill": {
     "duration": 0.291911,
     "end_time": "2021-11-16T03:00:49.824308",
     "exception": false,
     "start_time": "2021-11-16T03:00:49.532397",
     "status": "completed"
    },
    "tags": []
   },
   "outputs": [],
   "source": [
    "df_scaled = pd.DataFrame(sdc.fit_transform(df), columns=df.columns)"
   ]
  },
  {
   "cell_type": "markdown",
   "id": "d328040f",
   "metadata": {
    "papermill": {
     "duration": 0.029211,
     "end_time": "2021-11-16T03:00:49.882277",
     "exception": false,
     "start_time": "2021-11-16T03:00:49.853066",
     "status": "completed"
    },
    "tags": []
   },
   "source": [
    "**Importing train test split from sklearn**"
   ]
  },
  {
   "cell_type": "code",
   "execution_count": 15,
   "id": "57fe47ca",
   "metadata": {
    "execution": {
     "iopub.execute_input": "2021-11-16T03:00:49.945128Z",
     "iopub.status.busy": "2021-11-16T03:00:49.944374Z",
     "iopub.status.idle": "2021-11-16T03:00:49.996603Z",
     "shell.execute_reply": "2021-11-16T03:00:49.997161Z",
     "shell.execute_reply.started": "2021-11-15T09:29:36.529099Z"
    },
    "papermill": {
     "duration": 0.086245,
     "end_time": "2021-11-16T03:00:49.997351",
     "exception": false,
     "start_time": "2021-11-16T03:00:49.911106",
     "status": "completed"
    },
    "tags": []
   },
   "outputs": [],
   "source": [
    "from sklearn.model_selection import train_test_split"
   ]
  },
  {
   "cell_type": "markdown",
   "id": "e14c2d66",
   "metadata": {
    "papermill": {
     "duration": 0.028114,
     "end_time": "2021-11-16T03:00:50.054209",
     "exception": false,
     "start_time": "2021-11-16T03:00:50.026095",
     "status": "completed"
    },
    "tags": []
   },
   "source": [
    "**80% - Training Value**\n",
    "\n",
    "**20% - Testing Value**"
   ]
  },
  {
   "cell_type": "code",
   "execution_count": 16,
   "id": "2b209687",
   "metadata": {
    "execution": {
     "iopub.execute_input": "2021-11-16T03:00:50.117469Z",
     "iopub.status.busy": "2021-11-16T03:00:50.116472Z",
     "iopub.status.idle": "2021-11-16T03:00:50.139826Z",
     "shell.execute_reply": "2021-11-16T03:00:50.139203Z",
     "shell.execute_reply.started": "2021-11-15T09:29:36.53552Z"
    },
    "papermill": {
     "duration": 0.057354,
     "end_time": "2021-11-16T03:00:50.140002",
     "exception": false,
     "start_time": "2021-11-16T03:00:50.082648",
     "status": "completed"
    },
    "tags": []
   },
   "outputs": [],
   "source": [
    " X_train, X_test, y_train, y_test = train_test_split(X, y, test_size=0.2, random_state=42)"
   ]
  },
  {
   "cell_type": "markdown",
   "id": "2377b130",
   "metadata": {
    "papermill": {
     "duration": 0.033043,
     "end_time": "2021-11-16T03:00:50.201867",
     "exception": false,
     "start_time": "2021-11-16T03:00:50.168824",
     "status": "completed"
    },
    "tags": []
   },
   "source": [
    "**Importing Logistic Regression**"
   ]
  },
  {
   "cell_type": "code",
   "execution_count": 17,
   "id": "9f676135",
   "metadata": {
    "execution": {
     "iopub.execute_input": "2021-11-16T03:00:50.288526Z",
     "iopub.status.busy": "2021-11-16T03:00:50.285795Z",
     "iopub.status.idle": "2021-11-16T03:00:50.375687Z",
     "shell.execute_reply": "2021-11-16T03:00:50.375125Z",
     "shell.execute_reply.started": "2021-11-15T09:29:36.56614Z"
    },
    "papermill": {
     "duration": 0.13329,
     "end_time": "2021-11-16T03:00:50.375843",
     "exception": false,
     "start_time": "2021-11-16T03:00:50.242553",
     "status": "completed"
    },
    "tags": []
   },
   "outputs": [],
   "source": [
    "from sklearn.linear_model import LogisticRegression"
   ]
  },
  {
   "cell_type": "code",
   "execution_count": 18,
   "id": "f2e3c41f",
   "metadata": {
    "execution": {
     "iopub.execute_input": "2021-11-16T03:00:50.440787Z",
     "iopub.status.busy": "2021-11-16T03:00:50.439751Z",
     "iopub.status.idle": "2021-11-16T03:00:50.443712Z",
     "shell.execute_reply": "2021-11-16T03:00:50.444360Z",
     "shell.execute_reply.started": "2021-11-15T09:29:36.571641Z"
    },
    "papermill": {
     "duration": 0.038043,
     "end_time": "2021-11-16T03:00:50.444540",
     "exception": false,
     "start_time": "2021-11-16T03:00:50.406497",
     "status": "completed"
    },
    "tags": []
   },
   "outputs": [],
   "source": [
    "lr=LogisticRegression()"
   ]
  },
  {
   "cell_type": "markdown",
   "id": "b044eb32",
   "metadata": {
    "papermill": {
     "duration": 0.029517,
     "end_time": "2021-11-16T03:00:50.502602",
     "exception": false,
     "start_time": "2021-11-16T03:00:50.473085",
     "status": "completed"
    },
    "tags": []
   },
   "source": [
    "**Fitting the values into Logistic Regression**"
   ]
  },
  {
   "cell_type": "code",
   "execution_count": 19,
   "id": "643aeb7a",
   "metadata": {
    "execution": {
     "iopub.execute_input": "2021-11-16T03:00:50.564944Z",
     "iopub.status.busy": "2021-11-16T03:00:50.564245Z",
     "iopub.status.idle": "2021-11-16T03:00:52.112870Z",
     "shell.execute_reply": "2021-11-16T03:00:52.114364Z",
     "shell.execute_reply.started": "2021-11-15T09:29:36.585187Z"
    },
    "papermill": {
     "duration": 1.583206,
     "end_time": "2021-11-16T03:00:52.114698",
     "exception": false,
     "start_time": "2021-11-16T03:00:50.531492",
     "status": "completed"
    },
    "tags": []
   },
   "outputs": [
    {
     "data": {
      "text/plain": [
       "LogisticRegression()"
      ]
     },
     "execution_count": 19,
     "metadata": {},
     "output_type": "execute_result"
    }
   ],
   "source": [
    "lr.fit(X_train, y_train)"
   ]
  },
  {
   "cell_type": "markdown",
   "id": "988744fb",
   "metadata": {
    "papermill": {
     "duration": 0.053266,
     "end_time": "2021-11-16T03:00:52.225964",
     "exception": false,
     "start_time": "2021-11-16T03:00:52.172698",
     "status": "completed"
    },
    "tags": []
   },
   "source": [
    "**Predicting the Values fitted**"
   ]
  },
  {
   "cell_type": "code",
   "execution_count": 20,
   "id": "7a497a42",
   "metadata": {
    "execution": {
     "iopub.execute_input": "2021-11-16T03:00:52.289621Z",
     "iopub.status.busy": "2021-11-16T03:00:52.288596Z",
     "iopub.status.idle": "2021-11-16T03:00:52.292821Z",
     "shell.execute_reply": "2021-11-16T03:00:52.293304Z",
     "shell.execute_reply.started": "2021-11-15T09:29:38.157978Z"
    },
    "papermill": {
     "duration": 0.038818,
     "end_time": "2021-11-16T03:00:52.293522",
     "exception": false,
     "start_time": "2021-11-16T03:00:52.254704",
     "status": "completed"
    },
    "tags": []
   },
   "outputs": [
    {
     "data": {
      "text/plain": [
       "array([0, 0, 0, ..., 0, 0, 0])"
      ]
     },
     "execution_count": 20,
     "metadata": {},
     "output_type": "execute_result"
    }
   ],
   "source": [
    "pred=lr.predict(X_test)\n",
    "pred"
   ]
  },
  {
   "cell_type": "markdown",
   "id": "d1892647",
   "metadata": {
    "papermill": {
     "duration": 0.028607,
     "end_time": "2021-11-16T03:00:52.351190",
     "exception": false,
     "start_time": "2021-11-16T03:00:52.322583",
     "status": "completed"
    },
    "tags": []
   },
   "source": [
    "**Importing Confusion Matrix to evaluating the performance of a classification model**"
   ]
  },
  {
   "cell_type": "code",
   "execution_count": 21,
   "id": "44480e1c",
   "metadata": {
    "execution": {
     "iopub.execute_input": "2021-11-16T03:00:52.413737Z",
     "iopub.status.busy": "2021-11-16T03:00:52.412735Z",
     "iopub.status.idle": "2021-11-16T03:00:52.461644Z",
     "shell.execute_reply": "2021-11-16T03:00:52.461084Z",
     "shell.execute_reply.started": "2021-11-15T09:29:38.179391Z"
    },
    "papermill": {
     "duration": 0.081734,
     "end_time": "2021-11-16T03:00:52.461788",
     "exception": false,
     "start_time": "2021-11-16T03:00:52.380054",
     "status": "completed"
    },
    "tags": []
   },
   "outputs": [
    {
     "data": {
      "text/plain": [
       "array([[56864,     0],\n",
       "       [   98,     0]])"
      ]
     },
     "execution_count": 21,
     "metadata": {},
     "output_type": "execute_result"
    }
   ],
   "source": [
    "from sklearn.metrics import confusion_matrix\n",
    "cm = confusion_matrix(y_test, pred)\n",
    "cm"
   ]
  },
  {
   "cell_type": "markdown",
   "id": "1d41f931",
   "metadata": {
    "papermill": {
     "duration": 0.029405,
     "end_time": "2021-11-16T03:00:52.521501",
     "exception": false,
     "start_time": "2021-11-16T03:00:52.492096",
     "status": "completed"
    },
    "tags": []
   },
   "source": [
    "**Finding out the accuracy of the model**"
   ]
  },
  {
   "cell_type": "code",
   "execution_count": 22,
   "id": "a4dd6126",
   "metadata": {
    "execution": {
     "iopub.execute_input": "2021-11-16T03:00:52.584515Z",
     "iopub.status.busy": "2021-11-16T03:00:52.583519Z",
     "iopub.status.idle": "2021-11-16T03:00:52.593216Z",
     "shell.execute_reply": "2021-11-16T03:00:52.593794Z",
     "shell.execute_reply.started": "2021-11-15T09:29:38.311378Z"
    },
    "papermill": {
     "duration": 0.043029,
     "end_time": "2021-11-16T03:00:52.593994",
     "exception": false,
     "start_time": "2021-11-16T03:00:52.550965",
     "status": "completed"
    },
    "tags": []
   },
   "outputs": [
    {
     "data": {
      "text/plain": [
       "99.82795547909133"
      ]
     },
     "execution_count": 22,
     "metadata": {},
     "output_type": "execute_result"
    }
   ],
   "source": [
    "from sklearn.metrics import accuracy_score\n",
    "score=accuracy_score(y_test,pred)\n",
    "score*100"
   ]
  },
  {
   "cell_type": "markdown",
   "id": "1c8218fd",
   "metadata": {
    "papermill": {
     "duration": 0.02912,
     "end_time": "2021-11-16T03:00:52.652705",
     "exception": false,
     "start_time": "2021-11-16T03:00:52.623585",
     "status": "completed"
    },
    "tags": []
   },
   "source": [
    "* The model has 99.83% accuracy"
   ]
  },
  {
   "cell_type": "markdown",
   "id": "7fda62fe",
   "metadata": {
    "papermill": {
     "duration": 0.029504,
     "end_time": "2021-11-16T03:00:52.711765",
     "exception": false,
     "start_time": "2021-11-16T03:00:52.682261",
     "status": "completed"
    },
    "tags": []
   },
   "source": [
    "# Thank You"
   ]
  }
 ],
 "metadata": {
  "kernelspec": {
   "display_name": "Python 3",
   "language": "python",
   "name": "python3"
  },
  "language_info": {
   "codemirror_mode": {
    "name": "ipython",
    "version": 3
   },
   "file_extension": ".py",
   "mimetype": "text/x-python",
   "name": "python",
   "nbconvert_exporter": "python",
   "pygments_lexer": "ipython3",
   "version": "3.7.10"
  },
  "papermill": {
   "default_parameters": {},
   "duration": 24.545567,
   "end_time": "2021-11-16T03:00:53.453491",
   "environment_variables": {},
   "exception": null,
   "input_path": "__notebook__.ipynb",
   "output_path": "__notebook__.ipynb",
   "parameters": {},
   "start_time": "2021-11-16T03:00:28.907924",
   "version": "2.3.3"
  }
 },
 "nbformat": 4,
 "nbformat_minor": 5
}
