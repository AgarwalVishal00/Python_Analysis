{
 "cells": [
  {
   "cell_type": "markdown",
   "id": "154bb61f",
   "metadata": {
    "papermill": {
     "duration": 0.029107,
     "end_time": "2021-10-27T11:51:53.495079",
     "exception": false,
     "start_time": "2021-10-27T11:51:53.465972",
     "status": "completed"
    },
    "tags": []
   },
   "source": [
    "# **EDA of Amazon Top 50 Bestselling Books 2009 - 2019**"
   ]
  },
  {
   "cell_type": "markdown",
   "id": "d3fcb3e8",
   "metadata": {
    "papermill": {
     "duration": 0.026782,
     "end_time": "2021-10-27T11:51:53.549250",
     "exception": false,
     "start_time": "2021-10-27T11:51:53.522468",
     "status": "completed"
    },
    "tags": []
   },
   "source": [
    "Dataset on Amazon's Top 50 bestselling books from 2009 to 2019. Contains 550 books, data has been categorized into fiction and non-fiction using Goodreads.\n",
    "\n",
    "Link : [Click Here](https://www.kaggle.com/sootersaalu/amazon-top-50-bestselling-books-2009-2019)"
   ]
  },
  {
   "cell_type": "markdown",
   "id": "d4e53384",
   "metadata": {
    "papermill": {
     "duration": 0.026324,
     "end_time": "2021-10-27T11:51:53.602514",
     "exception": false,
     "start_time": "2021-10-27T11:51:53.576190",
     "status": "completed"
    },
    "tags": []
   },
   "source": [
    "**Importing the needed Python packages**"
   ]
  },
  {
   "cell_type": "code",
   "execution_count": 1,
   "id": "575893f7",
   "metadata": {
    "execution": {
     "iopub.execute_input": "2021-10-27T11:51:53.660518Z",
     "iopub.status.busy": "2021-10-27T11:51:53.659369Z",
     "iopub.status.idle": "2021-10-27T11:51:55.400888Z",
     "shell.execute_reply": "2021-10-27T11:51:55.401384Z",
     "shell.execute_reply.started": "2021-10-27T11:11:24.636160Z"
    },
    "papermill": {
     "duration": 1.772635,
     "end_time": "2021-10-27T11:51:55.401706",
     "exception": false,
     "start_time": "2021-10-27T11:51:53.629071",
     "status": "completed"
    },
    "tags": []
   },
   "outputs": [],
   "source": [
    "import numpy as np\n",
    "import pandas as pd\n",
    "import matplotlib.pyplot as plt\n",
    "import seaborn as sb\n",
    "import statsmodels.api as sm\n",
    "plt.show()\n",
    "%matplotlib inline"
   ]
  },
  {
   "cell_type": "markdown",
   "id": "4d4874b8",
   "metadata": {
    "papermill": {
     "duration": 0.026754,
     "end_time": "2021-10-27T11:51:55.454146",
     "exception": false,
     "start_time": "2021-10-27T11:51:55.427392",
     "status": "completed"
    },
    "tags": []
   },
   "source": [
    "**Uploading the dataset**"
   ]
  },
  {
   "cell_type": "code",
   "execution_count": 2,
   "id": "448d5b40",
   "metadata": {
    "execution": {
     "iopub.execute_input": "2021-10-27T11:51:55.511784Z",
     "iopub.status.busy": "2021-10-27T11:51:55.511167Z",
     "iopub.status.idle": "2021-10-27T11:51:55.535953Z",
     "shell.execute_reply": "2021-10-27T11:51:55.536457Z",
     "shell.execute_reply.started": "2021-10-27T11:11:24.646630Z"
    },
    "papermill": {
     "duration": 0.054796,
     "end_time": "2021-10-27T11:51:55.536675",
     "exception": false,
     "start_time": "2021-10-27T11:51:55.481879",
     "status": "completed"
    },
    "tags": []
   },
   "outputs": [],
   "source": [
    "ab = pd.read_csv('../input/amazon-top-50-bestselling-books-2009-2019/bestsellers with categories.csv')"
   ]
  },
  {
   "cell_type": "markdown",
   "id": "b09e0f9a",
   "metadata": {
    "papermill": {
     "duration": 0.026988,
     "end_time": "2021-10-27T11:51:55.590854",
     "exception": false,
     "start_time": "2021-10-27T11:51:55.563866",
     "status": "completed"
    },
    "tags": []
   },
   "source": [
    "**Showing the top 5 rows and columns of the data**"
   ]
  },
  {
   "cell_type": "code",
   "execution_count": 3,
   "id": "86b2b5e8",
   "metadata": {
    "execution": {
     "iopub.execute_input": "2021-10-27T11:51:55.647326Z",
     "iopub.status.busy": "2021-10-27T11:51:55.646726Z",
     "iopub.status.idle": "2021-10-27T11:51:55.664957Z",
     "shell.execute_reply": "2021-10-27T11:51:55.665455Z",
     "shell.execute_reply.started": "2021-10-27T11:11:24.676221Z"
    },
    "papermill": {
     "duration": 0.048329,
     "end_time": "2021-10-27T11:51:55.665651",
     "exception": false,
     "start_time": "2021-10-27T11:51:55.617322",
     "status": "completed"
    },
    "tags": []
   },
   "outputs": [
    {
     "data": {
      "text/html": [
       "<div>\n",
       "<style scoped>\n",
       "    .dataframe tbody tr th:only-of-type {\n",
       "        vertical-align: middle;\n",
       "    }\n",
       "\n",
       "    .dataframe tbody tr th {\n",
       "        vertical-align: top;\n",
       "    }\n",
       "\n",
       "    .dataframe thead th {\n",
       "        text-align: right;\n",
       "    }\n",
       "</style>\n",
       "<table border=\"1\" class=\"dataframe\">\n",
       "  <thead>\n",
       "    <tr style=\"text-align: right;\">\n",
       "      <th></th>\n",
       "      <th>Name</th>\n",
       "      <th>Author</th>\n",
       "      <th>User Rating</th>\n",
       "      <th>Reviews</th>\n",
       "      <th>Price</th>\n",
       "      <th>Year</th>\n",
       "      <th>Genre</th>\n",
       "    </tr>\n",
       "  </thead>\n",
       "  <tbody>\n",
       "    <tr>\n",
       "      <th>0</th>\n",
       "      <td>10-Day Green Smoothie Cleanse</td>\n",
       "      <td>JJ Smith</td>\n",
       "      <td>4.7</td>\n",
       "      <td>17350</td>\n",
       "      <td>8</td>\n",
       "      <td>2016</td>\n",
       "      <td>Non Fiction</td>\n",
       "    </tr>\n",
       "    <tr>\n",
       "      <th>1</th>\n",
       "      <td>11/22/63: A Novel</td>\n",
       "      <td>Stephen King</td>\n",
       "      <td>4.6</td>\n",
       "      <td>2052</td>\n",
       "      <td>22</td>\n",
       "      <td>2011</td>\n",
       "      <td>Fiction</td>\n",
       "    </tr>\n",
       "    <tr>\n",
       "      <th>2</th>\n",
       "      <td>12 Rules for Life: An Antidote to Chaos</td>\n",
       "      <td>Jordan B. Peterson</td>\n",
       "      <td>4.7</td>\n",
       "      <td>18979</td>\n",
       "      <td>15</td>\n",
       "      <td>2018</td>\n",
       "      <td>Non Fiction</td>\n",
       "    </tr>\n",
       "    <tr>\n",
       "      <th>3</th>\n",
       "      <td>1984 (Signet Classics)</td>\n",
       "      <td>George Orwell</td>\n",
       "      <td>4.7</td>\n",
       "      <td>21424</td>\n",
       "      <td>6</td>\n",
       "      <td>2017</td>\n",
       "      <td>Fiction</td>\n",
       "    </tr>\n",
       "    <tr>\n",
       "      <th>4</th>\n",
       "      <td>5,000 Awesome Facts (About Everything!) (Natio...</td>\n",
       "      <td>National Geographic Kids</td>\n",
       "      <td>4.8</td>\n",
       "      <td>7665</td>\n",
       "      <td>12</td>\n",
       "      <td>2019</td>\n",
       "      <td>Non Fiction</td>\n",
       "    </tr>\n",
       "  </tbody>\n",
       "</table>\n",
       "</div>"
      ],
      "text/plain": [
       "                                                Name  \\\n",
       "0                      10-Day Green Smoothie Cleanse   \n",
       "1                                  11/22/63: A Novel   \n",
       "2            12 Rules for Life: An Antidote to Chaos   \n",
       "3                             1984 (Signet Classics)   \n",
       "4  5,000 Awesome Facts (About Everything!) (Natio...   \n",
       "\n",
       "                     Author  User Rating  Reviews  Price  Year        Genre  \n",
       "0                  JJ Smith          4.7    17350      8  2016  Non Fiction  \n",
       "1              Stephen King          4.6     2052     22  2011      Fiction  \n",
       "2        Jordan B. Peterson          4.7    18979     15  2018  Non Fiction  \n",
       "3             George Orwell          4.7    21424      6  2017      Fiction  \n",
       "4  National Geographic Kids          4.8     7665     12  2019  Non Fiction  "
      ]
     },
     "execution_count": 3,
     "metadata": {},
     "output_type": "execute_result"
    }
   ],
   "source": [
    "ab.head()"
   ]
  },
  {
   "cell_type": "markdown",
   "id": "fa39bc6b",
   "metadata": {
    "papermill": {
     "duration": 0.027117,
     "end_time": "2021-10-27T11:51:55.720354",
     "exception": false,
     "start_time": "2021-10-27T11:51:55.693237",
     "status": "completed"
    },
    "tags": []
   },
   "source": [
    "**To find if there any null value exists**"
   ]
  },
  {
   "cell_type": "code",
   "execution_count": 4,
   "id": "84dbf4d5",
   "metadata": {
    "execution": {
     "iopub.execute_input": "2021-10-27T11:51:55.779062Z",
     "iopub.status.busy": "2021-10-27T11:51:55.778331Z",
     "iopub.status.idle": "2021-10-27T11:51:55.800799Z",
     "shell.execute_reply": "2021-10-27T11:51:55.801476Z",
     "shell.execute_reply.started": "2021-10-27T11:11:24.696359Z"
    },
    "papermill": {
     "duration": 0.053566,
     "end_time": "2021-10-27T11:51:55.801696",
     "exception": false,
     "start_time": "2021-10-27T11:51:55.748130",
     "status": "completed"
    },
    "tags": []
   },
   "outputs": [
    {
     "name": "stdout",
     "output_type": "stream",
     "text": [
      "<class 'pandas.core.frame.DataFrame'>\n",
      "RangeIndex: 550 entries, 0 to 549\n",
      "Data columns (total 7 columns):\n",
      " #   Column       Non-Null Count  Dtype  \n",
      "---  ------       --------------  -----  \n",
      " 0   Name         550 non-null    object \n",
      " 1   Author       550 non-null    object \n",
      " 2   User Rating  550 non-null    float64\n",
      " 3   Reviews      550 non-null    int64  \n",
      " 4   Price        550 non-null    int64  \n",
      " 5   Year         550 non-null    int64  \n",
      " 6   Genre        550 non-null    object \n",
      "dtypes: float64(1), int64(3), object(3)\n",
      "memory usage: 30.2+ KB\n"
     ]
    }
   ],
   "source": [
    "ab.info()"
   ]
  },
  {
   "cell_type": "markdown",
   "id": "b5838f9d",
   "metadata": {
    "papermill": {
     "duration": 0.027331,
     "end_time": "2021-10-27T11:51:55.857549",
     "exception": false,
     "start_time": "2021-10-27T11:51:55.830218",
     "status": "completed"
    },
    "tags": []
   },
   "source": [
    "**Using describe function for showing of various Descriptive Statistics measures**"
   ]
  },
  {
   "cell_type": "code",
   "execution_count": 5,
   "id": "c4aaecfa",
   "metadata": {
    "execution": {
     "iopub.execute_input": "2021-10-27T11:51:55.921431Z",
     "iopub.status.busy": "2021-10-27T11:51:55.920795Z",
     "iopub.status.idle": "2021-10-27T11:51:55.937768Z",
     "shell.execute_reply": "2021-10-27T11:51:55.938248Z",
     "shell.execute_reply.started": "2021-10-27T11:11:24.718403Z"
    },
    "papermill": {
     "duration": 0.053727,
     "end_time": "2021-10-27T11:51:55.938424",
     "exception": false,
     "start_time": "2021-10-27T11:51:55.884697",
     "status": "completed"
    },
    "tags": []
   },
   "outputs": [
    {
     "data": {
      "text/html": [
       "<div>\n",
       "<style scoped>\n",
       "    .dataframe tbody tr th:only-of-type {\n",
       "        vertical-align: middle;\n",
       "    }\n",
       "\n",
       "    .dataframe tbody tr th {\n",
       "        vertical-align: top;\n",
       "    }\n",
       "\n",
       "    .dataframe thead th {\n",
       "        text-align: right;\n",
       "    }\n",
       "</style>\n",
       "<table border=\"1\" class=\"dataframe\">\n",
       "  <thead>\n",
       "    <tr style=\"text-align: right;\">\n",
       "      <th></th>\n",
       "      <th>User Rating</th>\n",
       "      <th>Reviews</th>\n",
       "      <th>Price</th>\n",
       "      <th>Year</th>\n",
       "    </tr>\n",
       "  </thead>\n",
       "  <tbody>\n",
       "    <tr>\n",
       "      <th>count</th>\n",
       "      <td>550.000000</td>\n",
       "      <td>550.000000</td>\n",
       "      <td>550.000000</td>\n",
       "      <td>550.000000</td>\n",
       "    </tr>\n",
       "    <tr>\n",
       "      <th>mean</th>\n",
       "      <td>4.618364</td>\n",
       "      <td>11953.281818</td>\n",
       "      <td>13.100000</td>\n",
       "      <td>2014.000000</td>\n",
       "    </tr>\n",
       "    <tr>\n",
       "      <th>std</th>\n",
       "      <td>0.226980</td>\n",
       "      <td>11731.132017</td>\n",
       "      <td>10.842262</td>\n",
       "      <td>3.165156</td>\n",
       "    </tr>\n",
       "    <tr>\n",
       "      <th>min</th>\n",
       "      <td>3.300000</td>\n",
       "      <td>37.000000</td>\n",
       "      <td>0.000000</td>\n",
       "      <td>2009.000000</td>\n",
       "    </tr>\n",
       "    <tr>\n",
       "      <th>25%</th>\n",
       "      <td>4.500000</td>\n",
       "      <td>4058.000000</td>\n",
       "      <td>7.000000</td>\n",
       "      <td>2011.000000</td>\n",
       "    </tr>\n",
       "    <tr>\n",
       "      <th>50%</th>\n",
       "      <td>4.700000</td>\n",
       "      <td>8580.000000</td>\n",
       "      <td>11.000000</td>\n",
       "      <td>2014.000000</td>\n",
       "    </tr>\n",
       "    <tr>\n",
       "      <th>75%</th>\n",
       "      <td>4.800000</td>\n",
       "      <td>17253.250000</td>\n",
       "      <td>16.000000</td>\n",
       "      <td>2017.000000</td>\n",
       "    </tr>\n",
       "    <tr>\n",
       "      <th>max</th>\n",
       "      <td>4.900000</td>\n",
       "      <td>87841.000000</td>\n",
       "      <td>105.000000</td>\n",
       "      <td>2019.000000</td>\n",
       "    </tr>\n",
       "  </tbody>\n",
       "</table>\n",
       "</div>"
      ],
      "text/plain": [
       "       User Rating       Reviews       Price         Year\n",
       "count   550.000000    550.000000  550.000000   550.000000\n",
       "mean      4.618364  11953.281818   13.100000  2014.000000\n",
       "std       0.226980  11731.132017   10.842262     3.165156\n",
       "min       3.300000     37.000000    0.000000  2009.000000\n",
       "25%       4.500000   4058.000000    7.000000  2011.000000\n",
       "50%       4.700000   8580.000000   11.000000  2014.000000\n",
       "75%       4.800000  17253.250000   16.000000  2017.000000\n",
       "max       4.900000  87841.000000  105.000000  2019.000000"
      ]
     },
     "execution_count": 5,
     "metadata": {},
     "output_type": "execute_result"
    }
   ],
   "source": [
    "ab.describe()"
   ]
  },
  {
   "cell_type": "markdown",
   "id": "281e86e2",
   "metadata": {
    "papermill": {
     "duration": 0.027665,
     "end_time": "2021-10-27T11:51:55.993670",
     "exception": false,
     "start_time": "2021-10-27T11:51:55.966005",
     "status": "completed"
    },
    "tags": []
   },
   "source": [
    "**Assigning the index for using it as a axes**"
   ]
  },
  {
   "cell_type": "code",
   "execution_count": 6,
   "id": "cef952ab",
   "metadata": {
    "execution": {
     "iopub.execute_input": "2021-10-27T11:51:56.054991Z",
     "iopub.status.busy": "2021-10-27T11:51:56.054035Z",
     "iopub.status.idle": "2021-10-27T11:51:56.057788Z",
     "shell.execute_reply": "2021-10-27T11:51:56.058353Z",
     "shell.execute_reply.started": "2021-10-27T11:11:24.744759Z"
    },
    "papermill": {
     "duration": 0.035906,
     "end_time": "2021-10-27T11:51:56.058518",
     "exception": false,
     "start_time": "2021-10-27T11:51:56.022612",
     "status": "completed"
    },
    "tags": []
   },
   "outputs": [],
   "source": [
    "ind=np.arange(1,551)"
   ]
  },
  {
   "cell_type": "markdown",
   "id": "acf56676",
   "metadata": {
    "papermill": {
     "duration": 0.027304,
     "end_time": "2021-10-27T11:51:56.113544",
     "exception": false,
     "start_time": "2021-10-27T11:51:56.086240",
     "status": "completed"
    },
    "tags": []
   },
   "source": [
    "**Pairplot to show various relations based on genre**"
   ]
  },
  {
   "cell_type": "code",
   "execution_count": 7,
   "id": "81c526c7",
   "metadata": {
    "execution": {
     "iopub.execute_input": "2021-10-27T11:51:56.172634Z",
     "iopub.status.busy": "2021-10-27T11:51:56.171729Z",
     "iopub.status.idle": "2021-10-27T11:52:01.201865Z",
     "shell.execute_reply": "2021-10-27T11:52:01.202307Z",
     "shell.execute_reply.started": "2021-10-27T11:11:24.750943Z"
    },
    "papermill": {
     "duration": 5.061023,
     "end_time": "2021-10-27T11:52:01.202485",
     "exception": false,
     "start_time": "2021-10-27T11:51:56.141462",
     "status": "completed"
    },
    "tags": []
   },
   "outputs": [
    {
     "data": {
      "text/plain": [
       "<seaborn.axisgrid.PairGrid at 0x7f50065aeb50>"
      ]
     },
     "execution_count": 7,
     "metadata": {},
     "output_type": "execute_result"
    },
    {
     "data": {
      "image/png": "[encoded data removed]",
      "text/plain": [
       "<Figure size 811.5x720 with 20 Axes>"
      ]
     },
     "metadata": {
      "needs_background": "light"
     },
     "output_type": "display_data"
    }
   ],
   "source": [
    "sb.pairplot(ab, hue='Genre')"
   ]
  },
  {
   "cell_type": "markdown",
   "id": "c5214301",
   "metadata": {
    "papermill": {
     "duration": 0.034334,
     "end_time": "2021-10-27T11:52:01.270712",
     "exception": false,
     "start_time": "2021-10-27T11:52:01.236378",
     "status": "completed"
    },
    "tags": []
   },
   "source": [
    "**Barplot to find the frequency of the Genres**"
   ]
  },
  {
   "cell_type": "code",
   "execution_count": 8,
   "id": "6313d8c3",
   "metadata": {
    "execution": {
     "iopub.execute_input": "2021-10-27T11:52:01.342450Z",
     "iopub.status.busy": "2021-10-27T11:52:01.341791Z",
     "iopub.status.idle": "2021-10-27T11:52:01.596671Z",
     "shell.execute_reply": "2021-10-27T11:52:01.596146Z",
     "shell.execute_reply.started": "2021-10-27T11:11:30.863852Z"
    },
    "papermill": {
     "duration": 0.291751,
     "end_time": "2021-10-27T11:52:01.596811",
     "exception": false,
     "start_time": "2021-10-27T11:52:01.305060",
     "status": "completed"
    },
    "tags": []
   },
   "outputs": [
    {
     "data": {
      "text/plain": [
       "<AxesSubplot:xlabel='Genre'>"
      ]
     },
     "execution_count": 8,
     "metadata": {},
     "output_type": "execute_result"
    },
    {
     "data": {
      "image/png": "[encoded data removed]",
      "text/plain": [
       "<Figure size 720x432 with 1 Axes>"
      ]
     },
     "metadata": {
      "needs_background": "light"
     },
     "output_type": "display_data"
    }
   ],
   "source": [
    "ax=plt.figure(figsize=(10,6))\n",
    "sb.barplot(x='Genre', y=ind, data=ab)"
   ]
  },
  {
   "cell_type": "markdown",
   "id": "66d9fa44",
   "metadata": {
    "papermill": {
     "duration": 0.034132,
     "end_time": "2021-10-27T11:52:01.665669",
     "exception": false,
     "start_time": "2021-10-27T11:52:01.631537",
     "status": "completed"
    },
    "tags": []
   },
   "source": [
    "There are more Fiction movies than Non Fiction"
   ]
  },
  {
   "cell_type": "markdown",
   "id": "9479140f",
   "metadata": {
    "papermill": {
     "duration": 0.033162,
     "end_time": "2021-10-27T11:52:01.732854",
     "exception": false,
     "start_time": "2021-10-27T11:52:01.699692",
     "status": "completed"
    },
    "tags": []
   },
   "source": []
  },
  {
   "cell_type": "markdown",
   "id": "2d72fd36",
   "metadata": {
    "papermill": {
     "duration": 0.033709,
     "end_time": "2021-10-27T11:52:01.800480",
     "exception": false,
     "start_time": "2021-10-27T11:52:01.766771",
     "status": "completed"
    },
    "tags": []
   },
   "source": [
    "**Finding the count of Fiction movies**"
   ]
  },
  {
   "cell_type": "code",
   "execution_count": 9,
   "id": "0e0fc1af",
   "metadata": {
    "execution": {
     "iopub.execute_input": "2021-10-27T11:52:01.871625Z",
     "iopub.status.busy": "2021-10-27T11:52:01.870902Z",
     "iopub.status.idle": "2021-10-27T11:52:01.879207Z",
     "shell.execute_reply": "2021-10-27T11:52:01.879750Z",
     "shell.execute_reply.started": "2021-10-27T11:16:10.877758Z"
    },
    "papermill": {
     "duration": 0.045482,
     "end_time": "2021-10-27T11:52:01.879922",
     "exception": false,
     "start_time": "2021-10-27T11:52:01.834440",
     "status": "completed"
    },
    "tags": []
   },
   "outputs": [
    {
     "data": {
      "text/plain": [
       "Name           240\n",
       "Author         240\n",
       "User Rating    240\n",
       "Reviews        240\n",
       "Price          240\n",
       "Year           240\n",
       "Genre          240\n",
       "dtype: int64"
      ]
     },
     "execution_count": 9,
     "metadata": {},
     "output_type": "execute_result"
    }
   ],
   "source": [
    "ab[ab['Genre']=='Fiction'].count()"
   ]
  },
  {
   "cell_type": "markdown",
   "id": "bd995521",
   "metadata": {
    "papermill": {
     "duration": 0.041712,
     "end_time": "2021-10-27T11:52:01.963267",
     "exception": false,
     "start_time": "2021-10-27T11:52:01.921555",
     "status": "completed"
    },
    "tags": []
   },
   "source": [
    "**Finding the count of Non Fiction movies**"
   ]
  },
  {
   "cell_type": "code",
   "execution_count": 10,
   "id": "6c0381fa",
   "metadata": {
    "execution": {
     "iopub.execute_input": "2021-10-27T11:52:02.048552Z",
     "iopub.status.busy": "2021-10-27T11:52:02.047490Z",
     "iopub.status.idle": "2021-10-27T11:52:02.057049Z",
     "shell.execute_reply": "2021-10-27T11:52:02.057663Z",
     "shell.execute_reply.started": "2021-10-27T11:16:13.941045Z"
    },
    "papermill": {
     "duration": 0.057098,
     "end_time": "2021-10-27T11:52:02.057864",
     "exception": false,
     "start_time": "2021-10-27T11:52:02.000766",
     "status": "completed"
    },
    "tags": []
   },
   "outputs": [
    {
     "data": {
      "text/plain": [
       "Name           310\n",
       "Author         310\n",
       "User Rating    310\n",
       "Reviews        310\n",
       "Price          310\n",
       "Year           310\n",
       "Genre          310\n",
       "dtype: int64"
      ]
     },
     "execution_count": 10,
     "metadata": {},
     "output_type": "execute_result"
    }
   ],
   "source": [
    "ab[ab['Genre']=='Non Fiction'].count()"
   ]
  },
  {
   "cell_type": "markdown",
   "id": "ae7a46bd",
   "metadata": {
    "papermill": {
     "duration": 0.045029,
     "end_time": "2021-10-27T11:52:02.147624",
     "exception": false,
     "start_time": "2021-10-27T11:52:02.102595",
     "status": "completed"
    },
    "tags": []
   },
   "source": [
    "**Pie Chart of the Genres**"
   ]
  },
  {
   "cell_type": "code",
   "execution_count": 11,
   "id": "6037bf5d",
   "metadata": {
    "execution": {
     "iopub.execute_input": "2021-10-27T11:52:02.228477Z",
     "iopub.status.busy": "2021-10-27T11:52:02.227489Z",
     "iopub.status.idle": "2021-10-27T11:52:02.310619Z",
     "shell.execute_reply": "2021-10-27T11:52:02.311154Z",
     "shell.execute_reply.started": "2021-10-27T11:16:35.311873Z"
    },
    "papermill": {
     "duration": 0.128655,
     "end_time": "2021-10-27T11:52:02.311320",
     "exception": false,
     "start_time": "2021-10-27T11:52:02.182665",
     "status": "completed"
    },
    "tags": []
   },
   "outputs": [
    {
     "data": {
      "image/png": "[encoded data removed]",
      "text/plain": [
       "<Figure size 432x432 with 1 Axes>"
      ]
     },
     "metadata": {},
     "output_type": "display_data"
    }
   ],
   "source": [
    "ax=plt.figure(figsize=(6,6))\n",
    "data = [240,310]\n",
    "labels = ['Fiction', 'Non Fiction']\n",
    "colors = sb.color_palette('flare')[0:5]\n",
    "plt.pie(data, labels = labels, colors = colors, autopct='%.0f%%')\n",
    "\n",
    "plt.show()"
   ]
  },
  {
   "cell_type": "markdown",
   "id": "2f50c2d7",
   "metadata": {
    "papermill": {
     "duration": 0.036082,
     "end_time": "2021-10-27T11:52:02.383251",
     "exception": false,
     "start_time": "2021-10-27T11:52:02.347169",
     "status": "completed"
    },
    "tags": []
   },
   "source": [
    "**Showing the row with maximunm reviews**"
   ]
  },
  {
   "cell_type": "code",
   "execution_count": 12,
   "id": "edb6641e",
   "metadata": {
    "execution": {
     "iopub.execute_input": "2021-10-27T11:52:02.458621Z",
     "iopub.status.busy": "2021-10-27T11:52:02.457929Z",
     "iopub.status.idle": "2021-10-27T11:52:02.472799Z",
     "shell.execute_reply": "2021-10-27T11:52:02.473643Z",
     "shell.execute_reply.started": "2021-10-27T11:13:32.948673Z"
    },
    "papermill": {
     "duration": 0.054565,
     "end_time": "2021-10-27T11:52:02.473879",
     "exception": false,
     "start_time": "2021-10-27T11:52:02.419314",
     "status": "completed"
    },
    "tags": []
   },
   "outputs": [
    {
     "data": {
      "text/html": [
       "<div>\n",
       "<style scoped>\n",
       "    .dataframe tbody tr th:only-of-type {\n",
       "        vertical-align: middle;\n",
       "    }\n",
       "\n",
       "    .dataframe tbody tr th {\n",
       "        vertical-align: top;\n",
       "    }\n",
       "\n",
       "    .dataframe thead th {\n",
       "        text-align: right;\n",
       "    }\n",
       "</style>\n",
       "<table border=\"1\" class=\"dataframe\">\n",
       "  <thead>\n",
       "    <tr style=\"text-align: right;\">\n",
       "      <th></th>\n",
       "      <th>Name</th>\n",
       "      <th>Author</th>\n",
       "      <th>User Rating</th>\n",
       "      <th>Reviews</th>\n",
       "      <th>Price</th>\n",
       "      <th>Year</th>\n",
       "      <th>Genre</th>\n",
       "    </tr>\n",
       "  </thead>\n",
       "  <tbody>\n",
       "    <tr>\n",
       "      <th>534</th>\n",
       "      <td>Where the Crawdads Sing</td>\n",
       "      <td>Delia Owens</td>\n",
       "      <td>4.8</td>\n",
       "      <td>87841</td>\n",
       "      <td>15</td>\n",
       "      <td>2019</td>\n",
       "      <td>Fiction</td>\n",
       "    </tr>\n",
       "  </tbody>\n",
       "</table>\n",
       "</div>"
      ],
      "text/plain": [
       "                        Name       Author  User Rating  Reviews  Price  Year  \\\n",
       "534  Where the Crawdads Sing  Delia Owens          4.8    87841     15  2019   \n",
       "\n",
       "       Genre  \n",
       "534  Fiction  "
      ]
     },
     "execution_count": 12,
     "metadata": {},
     "output_type": "execute_result"
    }
   ],
   "source": [
    "ab[ab['Reviews'] == ab['Reviews'].max()]"
   ]
  },
  {
   "cell_type": "markdown",
   "id": "48ca8418",
   "metadata": {
    "papermill": {
     "duration": 0.035557,
     "end_time": "2021-10-27T11:52:02.549456",
     "exception": false,
     "start_time": "2021-10-27T11:52:02.513899",
     "status": "completed"
    },
    "tags": []
   },
   "source": [
    "**Showing the row with minimunm reviews**"
   ]
  },
  {
   "cell_type": "code",
   "execution_count": 13,
   "id": "d59a1979",
   "metadata": {
    "execution": {
     "iopub.execute_input": "2021-10-27T11:52:02.686164Z",
     "iopub.status.busy": "2021-10-27T11:52:02.683065Z",
     "iopub.status.idle": "2021-10-27T11:52:02.694070Z",
     "shell.execute_reply": "2021-10-27T11:52:02.694598Z",
     "shell.execute_reply.started": "2021-10-27T11:13:46.267708Z"
    },
    "papermill": {
     "duration": 0.051032,
     "end_time": "2021-10-27T11:52:02.694758",
     "exception": false,
     "start_time": "2021-10-27T11:52:02.643726",
     "status": "completed"
    },
    "tags": []
   },
   "outputs": [
    {
     "data": {
      "text/html": [
       "<div>\n",
       "<style scoped>\n",
       "    .dataframe tbody tr th:only-of-type {\n",
       "        vertical-align: middle;\n",
       "    }\n",
       "\n",
       "    .dataframe tbody tr th {\n",
       "        vertical-align: top;\n",
       "    }\n",
       "\n",
       "    .dataframe thead th {\n",
       "        text-align: right;\n",
       "    }\n",
       "</style>\n",
       "<table border=\"1\" class=\"dataframe\">\n",
       "  <thead>\n",
       "    <tr style=\"text-align: right;\">\n",
       "      <th></th>\n",
       "      <th>Name</th>\n",
       "      <th>Author</th>\n",
       "      <th>User Rating</th>\n",
       "      <th>Reviews</th>\n",
       "      <th>Price</th>\n",
       "      <th>Year</th>\n",
       "      <th>Genre</th>\n",
       "    </tr>\n",
       "  </thead>\n",
       "  <tbody>\n",
       "    <tr>\n",
       "      <th>78</th>\n",
       "      <td>Divine Soul Mind Body Healing and Transmission...</td>\n",
       "      <td>Zhi Gang Sha</td>\n",
       "      <td>4.6</td>\n",
       "      <td>37</td>\n",
       "      <td>6</td>\n",
       "      <td>2009</td>\n",
       "      <td>Non Fiction</td>\n",
       "    </tr>\n",
       "  </tbody>\n",
       "</table>\n",
       "</div>"
      ],
      "text/plain": [
       "                                                 Name        Author  \\\n",
       "78  Divine Soul Mind Body Healing and Transmission...  Zhi Gang Sha   \n",
       "\n",
       "    User Rating  Reviews  Price  Year        Genre  \n",
       "78          4.6       37      6  2009  Non Fiction  "
      ]
     },
     "execution_count": 13,
     "metadata": {},
     "output_type": "execute_result"
    }
   ],
   "source": [
    "ab[ab['Reviews'] == ab['Reviews'].min()]"
   ]
  },
  {
   "cell_type": "markdown",
   "id": "0141b944",
   "metadata": {
    "papermill": {
     "duration": 0.036946,
     "end_time": "2021-10-27T11:52:02.768768",
     "exception": false,
     "start_time": "2021-10-27T11:52:02.731822",
     "status": "completed"
    },
    "tags": []
   },
   "source": [
    "**Showing the lmplot of the ticket prices to years**"
   ]
  },
  {
   "cell_type": "code",
   "execution_count": 14,
   "id": "3949c6d8",
   "metadata": {
    "execution": {
     "iopub.execute_input": "2021-10-27T11:52:02.847536Z",
     "iopub.status.busy": "2021-10-27T11:52:02.846906Z",
     "iopub.status.idle": "2021-10-27T11:52:03.577195Z",
     "shell.execute_reply": "2021-10-27T11:52:03.576661Z",
     "shell.execute_reply.started": "2021-10-27T11:22:22.387946Z"
    },
    "papermill": {
     "duration": 0.771107,
     "end_time": "2021-10-27T11:52:03.577332",
     "exception": false,
     "start_time": "2021-10-27T11:52:02.806225",
     "status": "completed"
    },
    "tags": []
   },
   "outputs": [
    {
     "data": {
      "text/plain": [
       "<seaborn.axisgrid.FacetGrid at 0x7f4ffc3423d0>"
      ]
     },
     "execution_count": 14,
     "metadata": {},
     "output_type": "execute_result"
    },
    {
     "data": {
      "image/png": "[encoded data removed]",
      "text/plain": [
       "<Figure size 811.5x360 with 1 Axes>"
      ]
     },
     "metadata": {
      "needs_background": "light"
     },
     "output_type": "display_data"
    }
   ],
   "source": [
    "sb.lmplot(x='Year', y='Price', data=ab, height=5,aspect=2,hue='Genre',palette='magma')"
   ]
  },
  {
   "cell_type": "markdown",
   "id": "888dd2a3",
   "metadata": {
    "papermill": {
     "duration": 0.038072,
     "end_time": "2021-10-27T11:52:03.653450",
     "exception": false,
     "start_time": "2021-10-27T11:52:03.615378",
     "status": "completed"
    },
    "tags": []
   },
   "source": [
    "The ticket prices have reduced over the years"
   ]
  },
  {
   "cell_type": "markdown",
   "id": "61e33c1a",
   "metadata": {
    "papermill": {
     "duration": 0.038121,
     "end_time": "2021-10-27T11:52:03.729316",
     "exception": false,
     "start_time": "2021-10-27T11:52:03.691195",
     "status": "completed"
    },
    "tags": []
   },
   "source": [
    "**Showing maximum priced movies**"
   ]
  },
  {
   "cell_type": "code",
   "execution_count": 15,
   "id": "dafd4e1a",
   "metadata": {
    "execution": {
     "iopub.execute_input": "2021-10-27T11:52:03.809364Z",
     "iopub.status.busy": "2021-10-27T11:52:03.808313Z",
     "iopub.status.idle": "2021-10-27T11:52:03.821337Z",
     "shell.execute_reply": "2021-10-27T11:52:03.821962Z",
     "shell.execute_reply.started": "2021-10-27T11:49:50.036706Z"
    },
    "papermill": {
     "duration": 0.055245,
     "end_time": "2021-10-27T11:52:03.822134",
     "exception": false,
     "start_time": "2021-10-27T11:52:03.766889",
     "status": "completed"
    },
    "tags": []
   },
   "outputs": [
    {
     "data": {
      "text/html": [
       "<div>\n",
       "<style scoped>\n",
       "    .dataframe tbody tr th:only-of-type {\n",
       "        vertical-align: middle;\n",
       "    }\n",
       "\n",
       "    .dataframe tbody tr th {\n",
       "        vertical-align: top;\n",
       "    }\n",
       "\n",
       "    .dataframe thead th {\n",
       "        text-align: right;\n",
       "    }\n",
       "</style>\n",
       "<table border=\"1\" class=\"dataframe\">\n",
       "  <thead>\n",
       "    <tr style=\"text-align: right;\">\n",
       "      <th></th>\n",
       "      <th>Name</th>\n",
       "      <th>Author</th>\n",
       "      <th>User Rating</th>\n",
       "      <th>Reviews</th>\n",
       "      <th>Price</th>\n",
       "      <th>Year</th>\n",
       "      <th>Genre</th>\n",
       "    </tr>\n",
       "  </thead>\n",
       "  <tbody>\n",
       "    <tr>\n",
       "      <th>69</th>\n",
       "      <td>Diagnostic and Statistical Manual of Mental Di...</td>\n",
       "      <td>American Psychiatric Association</td>\n",
       "      <td>4.5</td>\n",
       "      <td>6679</td>\n",
       "      <td>105</td>\n",
       "      <td>2013</td>\n",
       "      <td>Non Fiction</td>\n",
       "    </tr>\n",
       "    <tr>\n",
       "      <th>70</th>\n",
       "      <td>Diagnostic and Statistical Manual of Mental Di...</td>\n",
       "      <td>American Psychiatric Association</td>\n",
       "      <td>4.5</td>\n",
       "      <td>6679</td>\n",
       "      <td>105</td>\n",
       "      <td>2014</td>\n",
       "      <td>Non Fiction</td>\n",
       "    </tr>\n",
       "  </tbody>\n",
       "</table>\n",
       "</div>"
      ],
      "text/plain": [
       "                                                 Name  \\\n",
       "69  Diagnostic and Statistical Manual of Mental Di...   \n",
       "70  Diagnostic and Statistical Manual of Mental Di...   \n",
       "\n",
       "                              Author  User Rating  Reviews  Price  Year  \\\n",
       "69  American Psychiatric Association          4.5     6679    105  2013   \n",
       "70  American Psychiatric Association          4.5     6679    105  2014   \n",
       "\n",
       "          Genre  \n",
       "69  Non Fiction  \n",
       "70  Non Fiction  "
      ]
     },
     "execution_count": 15,
     "metadata": {},
     "output_type": "execute_result"
    }
   ],
   "source": [
    "ab[ab['Price'] == ab['Price'].max()]"
   ]
  },
  {
   "cell_type": "markdown",
   "id": "ffbedd2d",
   "metadata": {
    "papermill": {
     "duration": 0.038744,
     "end_time": "2021-10-27T11:52:03.900289",
     "exception": false,
     "start_time": "2021-10-27T11:52:03.861545",
     "status": "completed"
    },
    "tags": []
   },
   "source": [
    "**Showing minimum priced movies**"
   ]
  },
  {
   "cell_type": "code",
   "execution_count": 16,
   "id": "088632b0",
   "metadata": {
    "execution": {
     "iopub.execute_input": "2021-10-27T11:52:03.981432Z",
     "iopub.status.busy": "2021-10-27T11:52:03.980429Z",
     "iopub.status.idle": "2021-10-27T11:52:03.995706Z",
     "shell.execute_reply": "2021-10-27T11:52:03.996146Z",
     "shell.execute_reply.started": "2021-10-27T11:50:04.642033Z"
    },
    "papermill": {
     "duration": 0.057382,
     "end_time": "2021-10-27T11:52:03.996308",
     "exception": false,
     "start_time": "2021-10-27T11:52:03.938926",
     "status": "completed"
    },
    "tags": []
   },
   "outputs": [
    {
     "data": {
      "text/html": [
       "<div>\n",
       "<style scoped>\n",
       "    .dataframe tbody tr th:only-of-type {\n",
       "        vertical-align: middle;\n",
       "    }\n",
       "\n",
       "    .dataframe tbody tr th {\n",
       "        vertical-align: top;\n",
       "    }\n",
       "\n",
       "    .dataframe thead th {\n",
       "        text-align: right;\n",
       "    }\n",
       "</style>\n",
       "<table border=\"1\" class=\"dataframe\">\n",
       "  <thead>\n",
       "    <tr style=\"text-align: right;\">\n",
       "      <th></th>\n",
       "      <th>Name</th>\n",
       "      <th>Author</th>\n",
       "      <th>User Rating</th>\n",
       "      <th>Reviews</th>\n",
       "      <th>Price</th>\n",
       "      <th>Year</th>\n",
       "      <th>Genre</th>\n",
       "    </tr>\n",
       "  </thead>\n",
       "  <tbody>\n",
       "    <tr>\n",
       "      <th>42</th>\n",
       "      <td>Cabin Fever (Diary of a Wimpy Kid, Book 6)</td>\n",
       "      <td>Jeff Kinney</td>\n",
       "      <td>4.8</td>\n",
       "      <td>4505</td>\n",
       "      <td>0</td>\n",
       "      <td>2011</td>\n",
       "      <td>Fiction</td>\n",
       "    </tr>\n",
       "    <tr>\n",
       "      <th>71</th>\n",
       "      <td>Diary of a Wimpy Kid: Hard Luck, Book 8</td>\n",
       "      <td>Jeff Kinney</td>\n",
       "      <td>4.8</td>\n",
       "      <td>6812</td>\n",
       "      <td>0</td>\n",
       "      <td>2013</td>\n",
       "      <td>Fiction</td>\n",
       "    </tr>\n",
       "    <tr>\n",
       "      <th>116</th>\n",
       "      <td>Frozen (Little Golden Book)</td>\n",
       "      <td>RH Disney</td>\n",
       "      <td>4.7</td>\n",
       "      <td>3642</td>\n",
       "      <td>0</td>\n",
       "      <td>2014</td>\n",
       "      <td>Fiction</td>\n",
       "    </tr>\n",
       "    <tr>\n",
       "      <th>193</th>\n",
       "      <td>JOURNEY TO THE ICE P</td>\n",
       "      <td>RH Disney</td>\n",
       "      <td>4.6</td>\n",
       "      <td>978</td>\n",
       "      <td>0</td>\n",
       "      <td>2014</td>\n",
       "      <td>Fiction</td>\n",
       "    </tr>\n",
       "    <tr>\n",
       "      <th>219</th>\n",
       "      <td>Little Blue Truck</td>\n",
       "      <td>Alice Schertle</td>\n",
       "      <td>4.9</td>\n",
       "      <td>1884</td>\n",
       "      <td>0</td>\n",
       "      <td>2014</td>\n",
       "      <td>Fiction</td>\n",
       "    </tr>\n",
       "    <tr>\n",
       "      <th>358</th>\n",
       "      <td>The Constitution of the United States</td>\n",
       "      <td>Delegates of the Constitutional</td>\n",
       "      <td>4.8</td>\n",
       "      <td>2774</td>\n",
       "      <td>0</td>\n",
       "      <td>2016</td>\n",
       "      <td>Non Fiction</td>\n",
       "    </tr>\n",
       "    <tr>\n",
       "      <th>381</th>\n",
       "      <td>The Getaway</td>\n",
       "      <td>Jeff Kinney</td>\n",
       "      <td>4.8</td>\n",
       "      <td>5836</td>\n",
       "      <td>0</td>\n",
       "      <td>2017</td>\n",
       "      <td>Fiction</td>\n",
       "    </tr>\n",
       "    <tr>\n",
       "      <th>461</th>\n",
       "      <td>The Short Second Life of Bree Tanner: An Eclip...</td>\n",
       "      <td>Stephenie Meyer</td>\n",
       "      <td>4.6</td>\n",
       "      <td>2122</td>\n",
       "      <td>0</td>\n",
       "      <td>2010</td>\n",
       "      <td>Fiction</td>\n",
       "    </tr>\n",
       "    <tr>\n",
       "      <th>505</th>\n",
       "      <td>To Kill a Mockingbird</td>\n",
       "      <td>Harper Lee</td>\n",
       "      <td>4.8</td>\n",
       "      <td>26234</td>\n",
       "      <td>0</td>\n",
       "      <td>2013</td>\n",
       "      <td>Fiction</td>\n",
       "    </tr>\n",
       "    <tr>\n",
       "      <th>506</th>\n",
       "      <td>To Kill a Mockingbird</td>\n",
       "      <td>Harper Lee</td>\n",
       "      <td>4.8</td>\n",
       "      <td>26234</td>\n",
       "      <td>0</td>\n",
       "      <td>2014</td>\n",
       "      <td>Fiction</td>\n",
       "    </tr>\n",
       "    <tr>\n",
       "      <th>507</th>\n",
       "      <td>To Kill a Mockingbird</td>\n",
       "      <td>Harper Lee</td>\n",
       "      <td>4.8</td>\n",
       "      <td>26234</td>\n",
       "      <td>0</td>\n",
       "      <td>2015</td>\n",
       "      <td>Fiction</td>\n",
       "    </tr>\n",
       "    <tr>\n",
       "      <th>508</th>\n",
       "      <td>To Kill a Mockingbird</td>\n",
       "      <td>Harper Lee</td>\n",
       "      <td>4.8</td>\n",
       "      <td>26234</td>\n",
       "      <td>0</td>\n",
       "      <td>2016</td>\n",
       "      <td>Fiction</td>\n",
       "    </tr>\n",
       "  </tbody>\n",
       "</table>\n",
       "</div>"
      ],
      "text/plain": [
       "                                                  Name  \\\n",
       "42          Cabin Fever (Diary of a Wimpy Kid, Book 6)   \n",
       "71             Diary of a Wimpy Kid: Hard Luck, Book 8   \n",
       "116                        Frozen (Little Golden Book)   \n",
       "193                               JOURNEY TO THE ICE P   \n",
       "219                                  Little Blue Truck   \n",
       "358              The Constitution of the United States   \n",
       "381                                        The Getaway   \n",
       "461  The Short Second Life of Bree Tanner: An Eclip...   \n",
       "505                              To Kill a Mockingbird   \n",
       "506                              To Kill a Mockingbird   \n",
       "507                              To Kill a Mockingbird   \n",
       "508                              To Kill a Mockingbird   \n",
       "\n",
       "                               Author  User Rating  Reviews  Price  Year  \\\n",
       "42                        Jeff Kinney          4.8     4505      0  2011   \n",
       "71                        Jeff Kinney          4.8     6812      0  2013   \n",
       "116                         RH Disney          4.7     3642      0  2014   \n",
       "193                         RH Disney          4.6      978      0  2014   \n",
       "219                    Alice Schertle          4.9     1884      0  2014   \n",
       "358  Delegates of the Constitutional\n",
       "          4.8     2774      0  2016   \n",
       "381                       Jeff Kinney          4.8     5836      0  2017   \n",
       "461                   Stephenie Meyer          4.6     2122      0  2010   \n",
       "505                        Harper Lee          4.8    26234      0  2013   \n",
       "506                        Harper Lee          4.8    26234      0  2014   \n",
       "507                        Harper Lee          4.8    26234      0  2015   \n",
       "508                        Harper Lee          4.8    26234      0  2016   \n",
       "\n",
       "           Genre  \n",
       "42       Fiction  \n",
       "71       Fiction  \n",
       "116      Fiction  \n",
       "193      Fiction  \n",
       "219      Fiction  \n",
       "358  Non Fiction  \n",
       "381      Fiction  \n",
       "461      Fiction  \n",
       "505      Fiction  \n",
       "506      Fiction  \n",
       "507      Fiction  \n",
       "508      Fiction  "
      ]
     },
     "execution_count": 16,
     "metadata": {},
     "output_type": "execute_result"
    }
   ],
   "source": [
    "ab[ab['Price'] == ab['Price'].min()]"
   ]
  },
  {
   "cell_type": "markdown",
   "id": "aa722a39",
   "metadata": {
    "papermill": {
     "duration": 0.039186,
     "end_time": "2021-10-27T11:52:04.075061",
     "exception": false,
     "start_time": "2021-10-27T11:52:04.035875",
     "status": "completed"
    },
    "tags": []
   },
   "source": [
    "**Showing the row with maximunm User Rating**"
   ]
  },
  {
   "cell_type": "code",
   "execution_count": 17,
   "id": "fd303d9e",
   "metadata": {
    "execution": {
     "iopub.execute_input": "2021-10-27T11:52:04.157500Z",
     "iopub.status.busy": "2021-10-27T11:52:04.156592Z",
     "iopub.status.idle": "2021-10-27T11:52:04.181449Z",
     "shell.execute_reply": "2021-10-27T11:52:04.181911Z",
     "shell.execute_reply.started": "2021-10-27T11:11:32.221278Z"
    },
    "papermill": {
     "duration": 0.067447,
     "end_time": "2021-10-27T11:52:04.182064",
     "exception": false,
     "start_time": "2021-10-27T11:52:04.114617",
     "status": "completed"
    },
    "tags": []
   },
   "outputs": [
    {
     "data": {
      "text/html": [
       "<div>\n",
       "<style scoped>\n",
       "    .dataframe tbody tr th:only-of-type {\n",
       "        vertical-align: middle;\n",
       "    }\n",
       "\n",
       "    .dataframe tbody tr th {\n",
       "        vertical-align: top;\n",
       "    }\n",
       "\n",
       "    .dataframe thead th {\n",
       "        text-align: right;\n",
       "    }\n",
       "</style>\n",
       "<table border=\"1\" class=\"dataframe\">\n",
       "  <thead>\n",
       "    <tr style=\"text-align: right;\">\n",
       "      <th></th>\n",
       "      <th>Name</th>\n",
       "      <th>Author</th>\n",
       "      <th>User Rating</th>\n",
       "      <th>Reviews</th>\n",
       "      <th>Price</th>\n",
       "      <th>Year</th>\n",
       "      <th>Genre</th>\n",
       "    </tr>\n",
       "  </thead>\n",
       "  <tbody>\n",
       "    <tr>\n",
       "      <th>40</th>\n",
       "      <td>Brown Bear, Brown Bear, What Do You See?</td>\n",
       "      <td>Bill Martin Jr.</td>\n",
       "      <td>4.9</td>\n",
       "      <td>14344</td>\n",
       "      <td>5</td>\n",
       "      <td>2017</td>\n",
       "      <td>Fiction</td>\n",
       "    </tr>\n",
       "    <tr>\n",
       "      <th>41</th>\n",
       "      <td>Brown Bear, Brown Bear, What Do You See?</td>\n",
       "      <td>Bill Martin Jr.</td>\n",
       "      <td>4.9</td>\n",
       "      <td>14344</td>\n",
       "      <td>5</td>\n",
       "      <td>2019</td>\n",
       "      <td>Fiction</td>\n",
       "    </tr>\n",
       "    <tr>\n",
       "      <th>81</th>\n",
       "      <td>Dog Man and Cat Kid: From the Creator of Capta...</td>\n",
       "      <td>Dav Pilkey</td>\n",
       "      <td>4.9</td>\n",
       "      <td>5062</td>\n",
       "      <td>6</td>\n",
       "      <td>2018</td>\n",
       "      <td>Fiction</td>\n",
       "    </tr>\n",
       "    <tr>\n",
       "      <th>82</th>\n",
       "      <td>Dog Man: A Tale of Two Kitties: From the Creat...</td>\n",
       "      <td>Dav Pilkey</td>\n",
       "      <td>4.9</td>\n",
       "      <td>4786</td>\n",
       "      <td>8</td>\n",
       "      <td>2017</td>\n",
       "      <td>Fiction</td>\n",
       "    </tr>\n",
       "    <tr>\n",
       "      <th>83</th>\n",
       "      <td>Dog Man: Brawl of the Wild: From the Creator o...</td>\n",
       "      <td>Dav Pilkey</td>\n",
       "      <td>4.9</td>\n",
       "      <td>7235</td>\n",
       "      <td>4</td>\n",
       "      <td>2018</td>\n",
       "      <td>Fiction</td>\n",
       "    </tr>\n",
       "    <tr>\n",
       "      <th>84</th>\n",
       "      <td>Dog Man: Brawl of the Wild: From the Creator o...</td>\n",
       "      <td>Dav Pilkey</td>\n",
       "      <td>4.9</td>\n",
       "      <td>7235</td>\n",
       "      <td>4</td>\n",
       "      <td>2019</td>\n",
       "      <td>Fiction</td>\n",
       "    </tr>\n",
       "    <tr>\n",
       "      <th>85</th>\n",
       "      <td>Dog Man: Fetch-22: From the Creator of Captain...</td>\n",
       "      <td>Dav Pilkey</td>\n",
       "      <td>4.9</td>\n",
       "      <td>12619</td>\n",
       "      <td>8</td>\n",
       "      <td>2019</td>\n",
       "      <td>Fiction</td>\n",
       "    </tr>\n",
       "    <tr>\n",
       "      <th>86</th>\n",
       "      <td>Dog Man: For Whom the Ball Rolls: From the Cre...</td>\n",
       "      <td>Dav Pilkey</td>\n",
       "      <td>4.9</td>\n",
       "      <td>9089</td>\n",
       "      <td>8</td>\n",
       "      <td>2019</td>\n",
       "      <td>Fiction</td>\n",
       "    </tr>\n",
       "    <tr>\n",
       "      <th>87</th>\n",
       "      <td>Dog Man: Lord of the Fleas: From the Creator o...</td>\n",
       "      <td>Dav Pilkey</td>\n",
       "      <td>4.9</td>\n",
       "      <td>5470</td>\n",
       "      <td>6</td>\n",
       "      <td>2018</td>\n",
       "      <td>Fiction</td>\n",
       "    </tr>\n",
       "    <tr>\n",
       "      <th>146</th>\n",
       "      <td>Goodnight, Goodnight Construction Site (Hardco...</td>\n",
       "      <td>Sherri Duskey Rinker</td>\n",
       "      <td>4.9</td>\n",
       "      <td>7038</td>\n",
       "      <td>7</td>\n",
       "      <td>2012</td>\n",
       "      <td>Fiction</td>\n",
       "    </tr>\n",
       "    <tr>\n",
       "      <th>147</th>\n",
       "      <td>Goodnight, Goodnight Construction Site (Hardco...</td>\n",
       "      <td>Sherri Duskey Rinker</td>\n",
       "      <td>4.9</td>\n",
       "      <td>7038</td>\n",
       "      <td>7</td>\n",
       "      <td>2013</td>\n",
       "      <td>Fiction</td>\n",
       "    </tr>\n",
       "    <tr>\n",
       "      <th>151</th>\n",
       "      <td>Hamilton: The Revolution</td>\n",
       "      <td>Lin-Manuel Miranda</td>\n",
       "      <td>4.9</td>\n",
       "      <td>5867</td>\n",
       "      <td>54</td>\n",
       "      <td>2016</td>\n",
       "      <td>Non Fiction</td>\n",
       "    </tr>\n",
       "    <tr>\n",
       "      <th>153</th>\n",
       "      <td>Harry Potter and the Chamber of Secrets: The I...</td>\n",
       "      <td>J.K. Rowling</td>\n",
       "      <td>4.9</td>\n",
       "      <td>19622</td>\n",
       "      <td>30</td>\n",
       "      <td>2016</td>\n",
       "      <td>Fiction</td>\n",
       "    </tr>\n",
       "    <tr>\n",
       "      <th>155</th>\n",
       "      <td>Harry Potter and the Goblet of Fire: The Illus...</td>\n",
       "      <td>J. K. Rowling</td>\n",
       "      <td>4.9</td>\n",
       "      <td>7758</td>\n",
       "      <td>18</td>\n",
       "      <td>2019</td>\n",
       "      <td>Fiction</td>\n",
       "    </tr>\n",
       "    <tr>\n",
       "      <th>156</th>\n",
       "      <td>Harry Potter and the Prisoner of Azkaban: The ...</td>\n",
       "      <td>J.K. Rowling</td>\n",
       "      <td>4.9</td>\n",
       "      <td>3146</td>\n",
       "      <td>30</td>\n",
       "      <td>2017</td>\n",
       "      <td>Fiction</td>\n",
       "    </tr>\n",
       "    <tr>\n",
       "      <th>157</th>\n",
       "      <td>Harry Potter and the Sorcerer's Stone: The Ill...</td>\n",
       "      <td>J.K. Rowling</td>\n",
       "      <td>4.9</td>\n",
       "      <td>10052</td>\n",
       "      <td>22</td>\n",
       "      <td>2016</td>\n",
       "      <td>Fiction</td>\n",
       "    </tr>\n",
       "    <tr>\n",
       "      <th>174</th>\n",
       "      <td>Humans of New York : Stories</td>\n",
       "      <td>Brandon Stanton</td>\n",
       "      <td>4.9</td>\n",
       "      <td>2812</td>\n",
       "      <td>17</td>\n",
       "      <td>2015</td>\n",
       "      <td>Non Fiction</td>\n",
       "    </tr>\n",
       "    <tr>\n",
       "      <th>187</th>\n",
       "      <td>Jesus Calling: Enjoying Peace in His Presence ...</td>\n",
       "      <td>Sarah Young</td>\n",
       "      <td>4.9</td>\n",
       "      <td>19576</td>\n",
       "      <td>8</td>\n",
       "      <td>2011</td>\n",
       "      <td>Non Fiction</td>\n",
       "    </tr>\n",
       "    <tr>\n",
       "      <th>188</th>\n",
       "      <td>Jesus Calling: Enjoying Peace in His Presence ...</td>\n",
       "      <td>Sarah Young</td>\n",
       "      <td>4.9</td>\n",
       "      <td>19576</td>\n",
       "      <td>8</td>\n",
       "      <td>2012</td>\n",
       "      <td>Non Fiction</td>\n",
       "    </tr>\n",
       "    <tr>\n",
       "      <th>189</th>\n",
       "      <td>Jesus Calling: Enjoying Peace in His Presence ...</td>\n",
       "      <td>Sarah Young</td>\n",
       "      <td>4.9</td>\n",
       "      <td>19576</td>\n",
       "      <td>8</td>\n",
       "      <td>2013</td>\n",
       "      <td>Non Fiction</td>\n",
       "    </tr>\n",
       "    <tr>\n",
       "      <th>190</th>\n",
       "      <td>Jesus Calling: Enjoying Peace in His Presence ...</td>\n",
       "      <td>Sarah Young</td>\n",
       "      <td>4.9</td>\n",
       "      <td>19576</td>\n",
       "      <td>8</td>\n",
       "      <td>2014</td>\n",
       "      <td>Non Fiction</td>\n",
       "    </tr>\n",
       "    <tr>\n",
       "      <th>191</th>\n",
       "      <td>Jesus Calling: Enjoying Peace in His Presence ...</td>\n",
       "      <td>Sarah Young</td>\n",
       "      <td>4.9</td>\n",
       "      <td>19576</td>\n",
       "      <td>8</td>\n",
       "      <td>2015</td>\n",
       "      <td>Non Fiction</td>\n",
       "    </tr>\n",
       "    <tr>\n",
       "      <th>192</th>\n",
       "      <td>Jesus Calling: Enjoying Peace in His Presence ...</td>\n",
       "      <td>Sarah Young</td>\n",
       "      <td>4.9</td>\n",
       "      <td>19576</td>\n",
       "      <td>8</td>\n",
       "      <td>2016</td>\n",
       "      <td>Non Fiction</td>\n",
       "    </tr>\n",
       "    <tr>\n",
       "      <th>207</th>\n",
       "      <td>Last Week Tonight with John Oliver Presents A ...</td>\n",
       "      <td>Jill Twiss</td>\n",
       "      <td>4.9</td>\n",
       "      <td>11881</td>\n",
       "      <td>13</td>\n",
       "      <td>2018</td>\n",
       "      <td>Fiction</td>\n",
       "    </tr>\n",
       "    <tr>\n",
       "      <th>219</th>\n",
       "      <td>Little Blue Truck</td>\n",
       "      <td>Alice Schertle</td>\n",
       "      <td>4.9</td>\n",
       "      <td>1884</td>\n",
       "      <td>0</td>\n",
       "      <td>2014</td>\n",
       "      <td>Fiction</td>\n",
       "    </tr>\n",
       "    <tr>\n",
       "      <th>244</th>\n",
       "      <td>Obama: An Intimate Portrait</td>\n",
       "      <td>Pete Souza</td>\n",
       "      <td>4.9</td>\n",
       "      <td>3192</td>\n",
       "      <td>22</td>\n",
       "      <td>2017</td>\n",
       "      <td>Non Fiction</td>\n",
       "    </tr>\n",
       "    <tr>\n",
       "      <th>245</th>\n",
       "      <td>Oh, the Places You'll Go!</td>\n",
       "      <td>Dr. Seuss</td>\n",
       "      <td>4.9</td>\n",
       "      <td>21834</td>\n",
       "      <td>8</td>\n",
       "      <td>2012</td>\n",
       "      <td>Fiction</td>\n",
       "    </tr>\n",
       "    <tr>\n",
       "      <th>246</th>\n",
       "      <td>Oh, the Places You'll Go!</td>\n",
       "      <td>Dr. Seuss</td>\n",
       "      <td>4.9</td>\n",
       "      <td>21834</td>\n",
       "      <td>8</td>\n",
       "      <td>2013</td>\n",
       "      <td>Fiction</td>\n",
       "    </tr>\n",
       "    <tr>\n",
       "      <th>247</th>\n",
       "      <td>Oh, the Places You'll Go!</td>\n",
       "      <td>Dr. Seuss</td>\n",
       "      <td>4.9</td>\n",
       "      <td>21834</td>\n",
       "      <td>8</td>\n",
       "      <td>2014</td>\n",
       "      <td>Fiction</td>\n",
       "    </tr>\n",
       "    <tr>\n",
       "      <th>248</th>\n",
       "      <td>Oh, the Places You'll Go!</td>\n",
       "      <td>Dr. Seuss</td>\n",
       "      <td>4.9</td>\n",
       "      <td>21834</td>\n",
       "      <td>8</td>\n",
       "      <td>2015</td>\n",
       "      <td>Fiction</td>\n",
       "    </tr>\n",
       "    <tr>\n",
       "      <th>249</th>\n",
       "      <td>Oh, the Places You'll Go!</td>\n",
       "      <td>Dr. Seuss</td>\n",
       "      <td>4.9</td>\n",
       "      <td>21834</td>\n",
       "      <td>8</td>\n",
       "      <td>2016</td>\n",
       "      <td>Fiction</td>\n",
       "    </tr>\n",
       "    <tr>\n",
       "      <th>250</th>\n",
       "      <td>Oh, the Places You'll Go!</td>\n",
       "      <td>Dr. Seuss</td>\n",
       "      <td>4.9</td>\n",
       "      <td>21834</td>\n",
       "      <td>8</td>\n",
       "      <td>2017</td>\n",
       "      <td>Fiction</td>\n",
       "    </tr>\n",
       "    <tr>\n",
       "      <th>251</th>\n",
       "      <td>Oh, the Places You'll Go!</td>\n",
       "      <td>Dr. Seuss</td>\n",
       "      <td>4.9</td>\n",
       "      <td>21834</td>\n",
       "      <td>8</td>\n",
       "      <td>2018</td>\n",
       "      <td>Fiction</td>\n",
       "    </tr>\n",
       "    <tr>\n",
       "      <th>252</th>\n",
       "      <td>Oh, the Places You'll Go!</td>\n",
       "      <td>Dr. Seuss</td>\n",
       "      <td>4.9</td>\n",
       "      <td>21834</td>\n",
       "      <td>8</td>\n",
       "      <td>2019</td>\n",
       "      <td>Fiction</td>\n",
       "    </tr>\n",
       "    <tr>\n",
       "      <th>288</th>\n",
       "      <td>Rush Revere and the Brave Pilgrims: Time-Trave...</td>\n",
       "      <td>Rush Limbaugh</td>\n",
       "      <td>4.9</td>\n",
       "      <td>7150</td>\n",
       "      <td>12</td>\n",
       "      <td>2013</td>\n",
       "      <td>Fiction</td>\n",
       "    </tr>\n",
       "    <tr>\n",
       "      <th>289</th>\n",
       "      <td>Rush Revere and the First Patriots: Time-Trave...</td>\n",
       "      <td>Rush Limbaugh</td>\n",
       "      <td>4.9</td>\n",
       "      <td>3836</td>\n",
       "      <td>12</td>\n",
       "      <td>2014</td>\n",
       "      <td>Fiction</td>\n",
       "    </tr>\n",
       "    <tr>\n",
       "      <th>303</th>\n",
       "      <td>Strange Planet (Strange Planet Series)</td>\n",
       "      <td>Nathan W. Pyle</td>\n",
       "      <td>4.9</td>\n",
       "      <td>9382</td>\n",
       "      <td>6</td>\n",
       "      <td>2019</td>\n",
       "      <td>Fiction</td>\n",
       "    </tr>\n",
       "    <tr>\n",
       "      <th>420</th>\n",
       "      <td>The Legend of Zelda: Hyrule Historia</td>\n",
       "      <td>Patrick Thorpe</td>\n",
       "      <td>4.9</td>\n",
       "      <td>5396</td>\n",
       "      <td>20</td>\n",
       "      <td>2013</td>\n",
       "      <td>Fiction</td>\n",
       "    </tr>\n",
       "    <tr>\n",
       "      <th>431</th>\n",
       "      <td>The Magnolia Story</td>\n",
       "      <td>Chip Gaines</td>\n",
       "      <td>4.9</td>\n",
       "      <td>7861</td>\n",
       "      <td>5</td>\n",
       "      <td>2016</td>\n",
       "      <td>Non Fiction</td>\n",
       "    </tr>\n",
       "    <tr>\n",
       "      <th>476</th>\n",
       "      <td>The Very Hungry Caterpillar</td>\n",
       "      <td>Eric Carle</td>\n",
       "      <td>4.9</td>\n",
       "      <td>19546</td>\n",
       "      <td>5</td>\n",
       "      <td>2013</td>\n",
       "      <td>Fiction</td>\n",
       "    </tr>\n",
       "    <tr>\n",
       "      <th>477</th>\n",
       "      <td>The Very Hungry Caterpillar</td>\n",
       "      <td>Eric Carle</td>\n",
       "      <td>4.9</td>\n",
       "      <td>19546</td>\n",
       "      <td>5</td>\n",
       "      <td>2014</td>\n",
       "      <td>Fiction</td>\n",
       "    </tr>\n",
       "    <tr>\n",
       "      <th>478</th>\n",
       "      <td>The Very Hungry Caterpillar</td>\n",
       "      <td>Eric Carle</td>\n",
       "      <td>4.9</td>\n",
       "      <td>19546</td>\n",
       "      <td>5</td>\n",
       "      <td>2015</td>\n",
       "      <td>Fiction</td>\n",
       "    </tr>\n",
       "    <tr>\n",
       "      <th>479</th>\n",
       "      <td>The Very Hungry Caterpillar</td>\n",
       "      <td>Eric Carle</td>\n",
       "      <td>4.9</td>\n",
       "      <td>19546</td>\n",
       "      <td>5</td>\n",
       "      <td>2016</td>\n",
       "      <td>Fiction</td>\n",
       "    </tr>\n",
       "    <tr>\n",
       "      <th>480</th>\n",
       "      <td>The Very Hungry Caterpillar</td>\n",
       "      <td>Eric Carle</td>\n",
       "      <td>4.9</td>\n",
       "      <td>19546</td>\n",
       "      <td>5</td>\n",
       "      <td>2017</td>\n",
       "      <td>Fiction</td>\n",
       "    </tr>\n",
       "    <tr>\n",
       "      <th>481</th>\n",
       "      <td>The Very Hungry Caterpillar</td>\n",
       "      <td>Eric Carle</td>\n",
       "      <td>4.9</td>\n",
       "      <td>19546</td>\n",
       "      <td>5</td>\n",
       "      <td>2018</td>\n",
       "      <td>Fiction</td>\n",
       "    </tr>\n",
       "    <tr>\n",
       "      <th>482</th>\n",
       "      <td>The Very Hungry Caterpillar</td>\n",
       "      <td>Eric Carle</td>\n",
       "      <td>4.9</td>\n",
       "      <td>19546</td>\n",
       "      <td>5</td>\n",
       "      <td>2019</td>\n",
       "      <td>Fiction</td>\n",
       "    </tr>\n",
       "    <tr>\n",
       "      <th>486</th>\n",
       "      <td>The Wonderful Things You Will Be</td>\n",
       "      <td>Emily Winfield Martin</td>\n",
       "      <td>4.9</td>\n",
       "      <td>8842</td>\n",
       "      <td>10</td>\n",
       "      <td>2016</td>\n",
       "      <td>Fiction</td>\n",
       "    </tr>\n",
       "    <tr>\n",
       "      <th>487</th>\n",
       "      <td>The Wonderful Things You Will Be</td>\n",
       "      <td>Emily Winfield Martin</td>\n",
       "      <td>4.9</td>\n",
       "      <td>8842</td>\n",
       "      <td>10</td>\n",
       "      <td>2017</td>\n",
       "      <td>Fiction</td>\n",
       "    </tr>\n",
       "    <tr>\n",
       "      <th>488</th>\n",
       "      <td>The Wonderful Things You Will Be</td>\n",
       "      <td>Emily Winfield Martin</td>\n",
       "      <td>4.9</td>\n",
       "      <td>8842</td>\n",
       "      <td>10</td>\n",
       "      <td>2018</td>\n",
       "      <td>Fiction</td>\n",
       "    </tr>\n",
       "    <tr>\n",
       "      <th>489</th>\n",
       "      <td>The Wonderful Things You Will Be</td>\n",
       "      <td>Emily Winfield Martin</td>\n",
       "      <td>4.9</td>\n",
       "      <td>8842</td>\n",
       "      <td>10</td>\n",
       "      <td>2019</td>\n",
       "      <td>Fiction</td>\n",
       "    </tr>\n",
       "    <tr>\n",
       "      <th>521</th>\n",
       "      <td>Unfreedom of the Press</td>\n",
       "      <td>Mark R. Levin</td>\n",
       "      <td>4.9</td>\n",
       "      <td>5956</td>\n",
       "      <td>11</td>\n",
       "      <td>2019</td>\n",
       "      <td>Non Fiction</td>\n",
       "    </tr>\n",
       "    <tr>\n",
       "      <th>545</th>\n",
       "      <td>Wrecking Ball (Diary of a Wimpy Kid Book 14)</td>\n",
       "      <td>Jeff Kinney</td>\n",
       "      <td>4.9</td>\n",
       "      <td>9413</td>\n",
       "      <td>8</td>\n",
       "      <td>2019</td>\n",
       "      <td>Fiction</td>\n",
       "    </tr>\n",
       "  </tbody>\n",
       "</table>\n",
       "</div>"
      ],
      "text/plain": [
       "                                                  Name                 Author  \\\n",
       "40            Brown Bear, Brown Bear, What Do You See?        Bill Martin Jr.   \n",
       "41            Brown Bear, Brown Bear, What Do You See?        Bill Martin Jr.   \n",
       "81   Dog Man and Cat Kid: From the Creator of Capta...             Dav Pilkey   \n",
       "82   Dog Man: A Tale of Two Kitties: From the Creat...             Dav Pilkey   \n",
       "83   Dog Man: Brawl of the Wild: From the Creator o...             Dav Pilkey   \n",
       "84   Dog Man: Brawl of the Wild: From the Creator o...             Dav Pilkey   \n",
       "85   Dog Man: Fetch-22: From the Creator of Captain...             Dav Pilkey   \n",
       "86   Dog Man: For Whom the Ball Rolls: From the Cre...             Dav Pilkey   \n",
       "87   Dog Man: Lord of the Fleas: From the Creator o...             Dav Pilkey   \n",
       "146  Goodnight, Goodnight Construction Site (Hardco...   Sherri Duskey Rinker   \n",
       "147  Goodnight, Goodnight Construction Site (Hardco...   Sherri Duskey Rinker   \n",
       "151                           Hamilton: The Revolution     Lin-Manuel Miranda   \n",
       "153  Harry Potter and the Chamber of Secrets: The I...           J.K. Rowling   \n",
       "155  Harry Potter and the Goblet of Fire: The Illus...          J. K. Rowling   \n",
       "156  Harry Potter and the Prisoner of Azkaban: The ...           J.K. Rowling   \n",
       "157  Harry Potter and the Sorcerer's Stone: The Ill...           J.K. Rowling   \n",
       "174                       Humans of New York : Stories        Brandon Stanton   \n",
       "187  Jesus Calling: Enjoying Peace in His Presence ...            Sarah Young   \n",
       "188  Jesus Calling: Enjoying Peace in His Presence ...            Sarah Young   \n",
       "189  Jesus Calling: Enjoying Peace in His Presence ...            Sarah Young   \n",
       "190  Jesus Calling: Enjoying Peace in His Presence ...            Sarah Young   \n",
       "191  Jesus Calling: Enjoying Peace in His Presence ...            Sarah Young   \n",
       "192  Jesus Calling: Enjoying Peace in His Presence ...            Sarah Young   \n",
       "207  Last Week Tonight with John Oliver Presents A ...             Jill Twiss   \n",
       "219                                  Little Blue Truck         Alice Schertle   \n",
       "244                        Obama: An Intimate Portrait             Pete Souza   \n",
       "245                          Oh, the Places You'll Go!              Dr. Seuss   \n",
       "246                          Oh, the Places You'll Go!              Dr. Seuss   \n",
       "247                          Oh, the Places You'll Go!              Dr. Seuss   \n",
       "248                          Oh, the Places You'll Go!              Dr. Seuss   \n",
       "249                          Oh, the Places You'll Go!              Dr. Seuss   \n",
       "250                          Oh, the Places You'll Go!              Dr. Seuss   \n",
       "251                          Oh, the Places You'll Go!              Dr. Seuss   \n",
       "252                          Oh, the Places You'll Go!              Dr. Seuss   \n",
       "288  Rush Revere and the Brave Pilgrims: Time-Trave...          Rush Limbaugh   \n",
       "289  Rush Revere and the First Patriots: Time-Trave...          Rush Limbaugh   \n",
       "303             Strange Planet (Strange Planet Series)         Nathan W. Pyle   \n",
       "420               The Legend of Zelda: Hyrule Historia         Patrick Thorpe   \n",
       "431                                 The Magnolia Story            Chip Gaines   \n",
       "476                        The Very Hungry Caterpillar             Eric Carle   \n",
       "477                        The Very Hungry Caterpillar             Eric Carle   \n",
       "478                        The Very Hungry Caterpillar             Eric Carle   \n",
       "479                        The Very Hungry Caterpillar             Eric Carle   \n",
       "480                        The Very Hungry Caterpillar             Eric Carle   \n",
       "481                        The Very Hungry Caterpillar             Eric Carle   \n",
       "482                        The Very Hungry Caterpillar             Eric Carle   \n",
       "486                   The Wonderful Things You Will Be  Emily Winfield Martin   \n",
       "487                   The Wonderful Things You Will Be  Emily Winfield Martin   \n",
       "488                   The Wonderful Things You Will Be  Emily Winfield Martin   \n",
       "489                   The Wonderful Things You Will Be  Emily Winfield Martin   \n",
       "521                             Unfreedom of the Press          Mark R. Levin   \n",
       "545       Wrecking Ball (Diary of a Wimpy Kid Book 14)            Jeff Kinney   \n",
       "\n",
       "     User Rating  Reviews  Price  Year        Genre  \n",
       "40           4.9    14344      5  2017      Fiction  \n",
       "41           4.9    14344      5  2019      Fiction  \n",
       "81           4.9     5062      6  2018      Fiction  \n",
       "82           4.9     4786      8  2017      Fiction  \n",
       "83           4.9     7235      4  2018      Fiction  \n",
       "84           4.9     7235      4  2019      Fiction  \n",
       "85           4.9    12619      8  2019      Fiction  \n",
       "86           4.9     9089      8  2019      Fiction  \n",
       "87           4.9     5470      6  2018      Fiction  \n",
       "146          4.9     7038      7  2012      Fiction  \n",
       "147          4.9     7038      7  2013      Fiction  \n",
       "151          4.9     5867     54  2016  Non Fiction  \n",
       "153          4.9    19622     30  2016      Fiction  \n",
       "155          4.9     7758     18  2019      Fiction  \n",
       "156          4.9     3146     30  2017      Fiction  \n",
       "157          4.9    10052     22  2016      Fiction  \n",
       "174          4.9     2812     17  2015  Non Fiction  \n",
       "187          4.9    19576      8  2011  Non Fiction  \n",
       "188          4.9    19576      8  2012  Non Fiction  \n",
       "189          4.9    19576      8  2013  Non Fiction  \n",
       "190          4.9    19576      8  2014  Non Fiction  \n",
       "191          4.9    19576      8  2015  Non Fiction  \n",
       "192          4.9    19576      8  2016  Non Fiction  \n",
       "207          4.9    11881     13  2018      Fiction  \n",
       "219          4.9     1884      0  2014      Fiction  \n",
       "244          4.9     3192     22  2017  Non Fiction  \n",
       "245          4.9    21834      8  2012      Fiction  \n",
       "246          4.9    21834      8  2013      Fiction  \n",
       "247          4.9    21834      8  2014      Fiction  \n",
       "248          4.9    21834      8  2015      Fiction  \n",
       "249          4.9    21834      8  2016      Fiction  \n",
       "250          4.9    21834      8  2017      Fiction  \n",
       "251          4.9    21834      8  2018      Fiction  \n",
       "252          4.9    21834      8  2019      Fiction  \n",
       "288          4.9     7150     12  2013      Fiction  \n",
       "289          4.9     3836     12  2014      Fiction  \n",
       "303          4.9     9382      6  2019      Fiction  \n",
       "420          4.9     5396     20  2013      Fiction  \n",
       "431          4.9     7861      5  2016  Non Fiction  \n",
       "476          4.9    19546      5  2013      Fiction  \n",
       "477          4.9    19546      5  2014      Fiction  \n",
       "478          4.9    19546      5  2015      Fiction  \n",
       "479          4.9    19546      5  2016      Fiction  \n",
       "480          4.9    19546      5  2017      Fiction  \n",
       "481          4.9    19546      5  2018      Fiction  \n",
       "482          4.9    19546      5  2019      Fiction  \n",
       "486          4.9     8842     10  2016      Fiction  \n",
       "487          4.9     8842     10  2017      Fiction  \n",
       "488          4.9     8842     10  2018      Fiction  \n",
       "489          4.9     8842     10  2019      Fiction  \n",
       "521          4.9     5956     11  2019  Non Fiction  \n",
       "545          4.9     9413      8  2019      Fiction  "
      ]
     },
     "execution_count": 17,
     "metadata": {},
     "output_type": "execute_result"
    }
   ],
   "source": [
    "ab[ab['User Rating'] == ab['User Rating'].max()]"
   ]
  },
  {
   "cell_type": "markdown",
   "id": "b3543afa",
   "metadata": {
    "papermill": {
     "duration": 0.039634,
     "end_time": "2021-10-27T11:52:04.260963",
     "exception": false,
     "start_time": "2021-10-27T11:52:04.221329",
     "status": "completed"
    },
    "tags": []
   },
   "source": [
    "**Showing the row with minimunm User Rating**"
   ]
  },
  {
   "cell_type": "code",
   "execution_count": 18,
   "id": "133d4242",
   "metadata": {
    "execution": {
     "iopub.execute_input": "2021-10-27T11:52:04.354944Z",
     "iopub.status.busy": "2021-10-27T11:52:04.354167Z",
     "iopub.status.idle": "2021-10-27T11:52:04.357735Z",
     "shell.execute_reply": "2021-10-27T11:52:04.358305Z",
     "shell.execute_reply.started": "2021-10-27T11:11:32.269047Z"
    },
    "papermill": {
     "duration": 0.057389,
     "end_time": "2021-10-27T11:52:04.358644",
     "exception": false,
     "start_time": "2021-10-27T11:52:04.301255",
     "status": "completed"
    },
    "tags": []
   },
   "outputs": [
    {
     "data": {
      "text/html": [
       "<div>\n",
       "<style scoped>\n",
       "    .dataframe tbody tr th:only-of-type {\n",
       "        vertical-align: middle;\n",
       "    }\n",
       "\n",
       "    .dataframe tbody tr th {\n",
       "        vertical-align: top;\n",
       "    }\n",
       "\n",
       "    .dataframe thead th {\n",
       "        text-align: right;\n",
       "    }\n",
       "</style>\n",
       "<table border=\"1\" class=\"dataframe\">\n",
       "  <thead>\n",
       "    <tr style=\"text-align: right;\">\n",
       "      <th></th>\n",
       "      <th>Name</th>\n",
       "      <th>Author</th>\n",
       "      <th>User Rating</th>\n",
       "      <th>Reviews</th>\n",
       "      <th>Price</th>\n",
       "      <th>Year</th>\n",
       "      <th>Genre</th>\n",
       "    </tr>\n",
       "  </thead>\n",
       "  <tbody>\n",
       "    <tr>\n",
       "      <th>353</th>\n",
       "      <td>The Casual Vacancy</td>\n",
       "      <td>J.K. Rowling</td>\n",
       "      <td>3.3</td>\n",
       "      <td>9372</td>\n",
       "      <td>12</td>\n",
       "      <td>2012</td>\n",
       "      <td>Fiction</td>\n",
       "    </tr>\n",
       "  </tbody>\n",
       "</table>\n",
       "</div>"
      ],
      "text/plain": [
       "                   Name        Author  User Rating  Reviews  Price  Year  \\\n",
       "353  The Casual Vacancy  J.K. Rowling          3.3     9372     12  2012   \n",
       "\n",
       "       Genre  \n",
       "353  Fiction  "
      ]
     },
     "execution_count": 18,
     "metadata": {},
     "output_type": "execute_result"
    }
   ],
   "source": [
    "ab[ab['User Rating'] == ab['User Rating'].min()]"
   ]
  },
  {
   "cell_type": "markdown",
   "id": "6743e7d6",
   "metadata": {
    "papermill": {
     "duration": 0.040265,
     "end_time": "2021-10-27T11:52:04.440149",
     "exception": false,
     "start_time": "2021-10-27T11:52:04.399884",
     "status": "completed"
    },
    "tags": []
   },
   "source": [
    "**Showing the count of Reviews based on Genre**"
   ]
  },
  {
   "cell_type": "code",
   "execution_count": 19,
   "id": "30c78e9b",
   "metadata": {
    "execution": {
     "iopub.execute_input": "2021-10-27T11:52:04.526411Z",
     "iopub.status.busy": "2021-10-27T11:52:04.525436Z",
     "iopub.status.idle": "2021-10-27T11:52:05.642782Z",
     "shell.execute_reply": "2021-10-27T11:52:05.643244Z",
     "shell.execute_reply.started": "2021-10-27T11:22:07.369713Z"
    },
    "papermill": {
     "duration": 1.160677,
     "end_time": "2021-10-27T11:52:05.643444",
     "exception": false,
     "start_time": "2021-10-27T11:52:04.482767",
     "status": "completed"
    },
    "tags": []
   },
   "outputs": [
    {
     "data": {
      "text/plain": [
       "<AxesSubplot:xlabel='User Rating'>"
      ]
     },
     "execution_count": 19,
     "metadata": {},
     "output_type": "execute_result"
    },
    {
     "data": {
      "image/png": "[encoded data removed]",
      "text/plain": [
       "<Figure size 1080x432 with 1 Axes>"
      ]
     },
     "metadata": {
      "needs_background": "light"
     },
     "output_type": "display_data"
    }
   ],
   "source": [
    "ax=plt.figure(figsize=(15,6))\n",
    "\n",
    "sb.barplot(y=ind, x='User Rating', data=ab,hue='Genre',palette='mako')"
   ]
  },
  {
   "cell_type": "markdown",
   "id": "6be4b635",
   "metadata": {
    "papermill": {
     "duration": 0.041753,
     "end_time": "2021-10-27T11:52:05.726653",
     "exception": false,
     "start_time": "2021-10-27T11:52:05.684900",
     "status": "completed"
    },
    "tags": []
   },
   "source": [
    "# Thank You"
   ]
  }
 ],
 "metadata": {
  "kernelspec": {
   "display_name": "Python 3",
   "language": "python",
   "name": "python3"
  },
  "language_info": {
   "codemirror_mode": {
    "name": "ipython",
    "version": 3
   },
   "file_extension": ".py",
   "mimetype": "text/x-python",
   "name": "python",
   "nbconvert_exporter": "python",
   "pygments_lexer": "ipython3",
   "version": "3.7.10"
  },
  "papermill": {
   "default_parameters": {},
   "duration": 22.040376,
   "end_time": "2021-10-27T11:52:06.478287",
   "environment_variables": {},
   "exception": null,
   "input_path": "__notebook__.ipynb",
   "output_path": "__notebook__.ipynb",
   "parameters": {},
   "start_time": "2021-10-27T11:51:44.437911",
   "version": "2.3.3"
  }
 },
 "nbformat": 4,
 "nbformat_minor": 5
}
